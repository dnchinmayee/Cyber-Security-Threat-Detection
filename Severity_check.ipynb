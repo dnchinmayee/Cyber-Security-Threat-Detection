{
  "nbformat": 4,
  "nbformat_minor": 0,
  "metadata": {
    "colab": {
      "provenance": [],
      "gpuType": "T4"
    },
    "kernelspec": {
      "name": "python3",
      "display_name": "Python 3"
    },
    "language_info": {
      "name": "python"
    },
    "widgets": {
      "application/vnd.jupyter.widget-state+json": {
        "fa8649fa57a0401dbaef07fe8dd64baf": {
          "model_module": "@jupyter-widgets/controls",
          "model_name": "HBoxModel",
          "model_module_version": "1.5.0",
          "state": {
            "_dom_classes": [],
            "_model_module": "@jupyter-widgets/controls",
            "_model_module_version": "1.5.0",
            "_model_name": "HBoxModel",
            "_view_count": null,
            "_view_module": "@jupyter-widgets/controls",
            "_view_module_version": "1.5.0",
            "_view_name": "HBoxView",
            "box_style": "",
            "children": [
              "IPY_MODEL_164f24b835ed4cabad66630a79e030db",
              "IPY_MODEL_0bfa6573dda64af5b18bc07885c434e3",
              "IPY_MODEL_7502f78411b04728aaa059e1becf867b"
            ],
            "layout": "IPY_MODEL_250693b20037496ebc99a433e393a4fe"
          }
        },
        "164f24b835ed4cabad66630a79e030db": {
          "model_module": "@jupyter-widgets/controls",
          "model_name": "HTMLModel",
          "model_module_version": "1.5.0",
          "state": {
            "_dom_classes": [],
            "_model_module": "@jupyter-widgets/controls",
            "_model_module_version": "1.5.0",
            "_model_name": "HTMLModel",
            "_view_count": null,
            "_view_module": "@jupyter-widgets/controls",
            "_view_module_version": "1.5.0",
            "_view_name": "HTMLView",
            "description": "",
            "description_tooltip": null,
            "layout": "IPY_MODEL_3bf02a4754d84a218e035bbceb01c241",
            "placeholder": "​",
            "style": "IPY_MODEL_01a0fce5dd6b46c4a6128c915aa4becd",
            "value": "Downloading (…)okenizer_config.json: 100%"
          }
        },
        "0bfa6573dda64af5b18bc07885c434e3": {
          "model_module": "@jupyter-widgets/controls",
          "model_name": "FloatProgressModel",
          "model_module_version": "1.5.0",
          "state": {
            "_dom_classes": [],
            "_model_module": "@jupyter-widgets/controls",
            "_model_module_version": "1.5.0",
            "_model_name": "FloatProgressModel",
            "_view_count": null,
            "_view_module": "@jupyter-widgets/controls",
            "_view_module_version": "1.5.0",
            "_view_name": "ProgressView",
            "bar_style": "success",
            "description": "",
            "description_tooltip": null,
            "layout": "IPY_MODEL_86efe8596e2844769ccf941c5131993f",
            "max": 28,
            "min": 0,
            "orientation": "horizontal",
            "style": "IPY_MODEL_9ee44e9a02e344f7951782c420731a19",
            "value": 28
          }
        },
        "7502f78411b04728aaa059e1becf867b": {
          "model_module": "@jupyter-widgets/controls",
          "model_name": "HTMLModel",
          "model_module_version": "1.5.0",
          "state": {
            "_dom_classes": [],
            "_model_module": "@jupyter-widgets/controls",
            "_model_module_version": "1.5.0",
            "_model_name": "HTMLModel",
            "_view_count": null,
            "_view_module": "@jupyter-widgets/controls",
            "_view_module_version": "1.5.0",
            "_view_name": "HTMLView",
            "description": "",
            "description_tooltip": null,
            "layout": "IPY_MODEL_ef393a6bea044f178ee607f2f9870b73",
            "placeholder": "​",
            "style": "IPY_MODEL_8429aaa079ec43a3acdfae5970bc7c6a",
            "value": " 28.0/28.0 [00:00&lt;00:00, 661B/s]"
          }
        },
        "250693b20037496ebc99a433e393a4fe": {
          "model_module": "@jupyter-widgets/base",
          "model_name": "LayoutModel",
          "model_module_version": "1.2.0",
          "state": {
            "_model_module": "@jupyter-widgets/base",
            "_model_module_version": "1.2.0",
            "_model_name": "LayoutModel",
            "_view_count": null,
            "_view_module": "@jupyter-widgets/base",
            "_view_module_version": "1.2.0",
            "_view_name": "LayoutView",
            "align_content": null,
            "align_items": null,
            "align_self": null,
            "border": null,
            "bottom": null,
            "display": null,
            "flex": null,
            "flex_flow": null,
            "grid_area": null,
            "grid_auto_columns": null,
            "grid_auto_flow": null,
            "grid_auto_rows": null,
            "grid_column": null,
            "grid_gap": null,
            "grid_row": null,
            "grid_template_areas": null,
            "grid_template_columns": null,
            "grid_template_rows": null,
            "height": null,
            "justify_content": null,
            "justify_items": null,
            "left": null,
            "margin": null,
            "max_height": null,
            "max_width": null,
            "min_height": null,
            "min_width": null,
            "object_fit": null,
            "object_position": null,
            "order": null,
            "overflow": null,
            "overflow_x": null,
            "overflow_y": null,
            "padding": null,
            "right": null,
            "top": null,
            "visibility": null,
            "width": null
          }
        },
        "3bf02a4754d84a218e035bbceb01c241": {
          "model_module": "@jupyter-widgets/base",
          "model_name": "LayoutModel",
          "model_module_version": "1.2.0",
          "state": {
            "_model_module": "@jupyter-widgets/base",
            "_model_module_version": "1.2.0",
            "_model_name": "LayoutModel",
            "_view_count": null,
            "_view_module": "@jupyter-widgets/base",
            "_view_module_version": "1.2.0",
            "_view_name": "LayoutView",
            "align_content": null,
            "align_items": null,
            "align_self": null,
            "border": null,
            "bottom": null,
            "display": null,
            "flex": null,
            "flex_flow": null,
            "grid_area": null,
            "grid_auto_columns": null,
            "grid_auto_flow": null,
            "grid_auto_rows": null,
            "grid_column": null,
            "grid_gap": null,
            "grid_row": null,
            "grid_template_areas": null,
            "grid_template_columns": null,
            "grid_template_rows": null,
            "height": null,
            "justify_content": null,
            "justify_items": null,
            "left": null,
            "margin": null,
            "max_height": null,
            "max_width": null,
            "min_height": null,
            "min_width": null,
            "object_fit": null,
            "object_position": null,
            "order": null,
            "overflow": null,
            "overflow_x": null,
            "overflow_y": null,
            "padding": null,
            "right": null,
            "top": null,
            "visibility": null,
            "width": null
          }
        },
        "01a0fce5dd6b46c4a6128c915aa4becd": {
          "model_module": "@jupyter-widgets/controls",
          "model_name": "DescriptionStyleModel",
          "model_module_version": "1.5.0",
          "state": {
            "_model_module": "@jupyter-widgets/controls",
            "_model_module_version": "1.5.0",
            "_model_name": "DescriptionStyleModel",
            "_view_count": null,
            "_view_module": "@jupyter-widgets/base",
            "_view_module_version": "1.2.0",
            "_view_name": "StyleView",
            "description_width": ""
          }
        },
        "86efe8596e2844769ccf941c5131993f": {
          "model_module": "@jupyter-widgets/base",
          "model_name": "LayoutModel",
          "model_module_version": "1.2.0",
          "state": {
            "_model_module": "@jupyter-widgets/base",
            "_model_module_version": "1.2.0",
            "_model_name": "LayoutModel",
            "_view_count": null,
            "_view_module": "@jupyter-widgets/base",
            "_view_module_version": "1.2.0",
            "_view_name": "LayoutView",
            "align_content": null,
            "align_items": null,
            "align_self": null,
            "border": null,
            "bottom": null,
            "display": null,
            "flex": null,
            "flex_flow": null,
            "grid_area": null,
            "grid_auto_columns": null,
            "grid_auto_flow": null,
            "grid_auto_rows": null,
            "grid_column": null,
            "grid_gap": null,
            "grid_row": null,
            "grid_template_areas": null,
            "grid_template_columns": null,
            "grid_template_rows": null,
            "height": null,
            "justify_content": null,
            "justify_items": null,
            "left": null,
            "margin": null,
            "max_height": null,
            "max_width": null,
            "min_height": null,
            "min_width": null,
            "object_fit": null,
            "object_position": null,
            "order": null,
            "overflow": null,
            "overflow_x": null,
            "overflow_y": null,
            "padding": null,
            "right": null,
            "top": null,
            "visibility": null,
            "width": null
          }
        },
        "9ee44e9a02e344f7951782c420731a19": {
          "model_module": "@jupyter-widgets/controls",
          "model_name": "ProgressStyleModel",
          "model_module_version": "1.5.0",
          "state": {
            "_model_module": "@jupyter-widgets/controls",
            "_model_module_version": "1.5.0",
            "_model_name": "ProgressStyleModel",
            "_view_count": null,
            "_view_module": "@jupyter-widgets/base",
            "_view_module_version": "1.2.0",
            "_view_name": "StyleView",
            "bar_color": null,
            "description_width": ""
          }
        },
        "ef393a6bea044f178ee607f2f9870b73": {
          "model_module": "@jupyter-widgets/base",
          "model_name": "LayoutModel",
          "model_module_version": "1.2.0",
          "state": {
            "_model_module": "@jupyter-widgets/base",
            "_model_module_version": "1.2.0",
            "_model_name": "LayoutModel",
            "_view_count": null,
            "_view_module": "@jupyter-widgets/base",
            "_view_module_version": "1.2.0",
            "_view_name": "LayoutView",
            "align_content": null,
            "align_items": null,
            "align_self": null,
            "border": null,
            "bottom": null,
            "display": null,
            "flex": null,
            "flex_flow": null,
            "grid_area": null,
            "grid_auto_columns": null,
            "grid_auto_flow": null,
            "grid_auto_rows": null,
            "grid_column": null,
            "grid_gap": null,
            "grid_row": null,
            "grid_template_areas": null,
            "grid_template_columns": null,
            "grid_template_rows": null,
            "height": null,
            "justify_content": null,
            "justify_items": null,
            "left": null,
            "margin": null,
            "max_height": null,
            "max_width": null,
            "min_height": null,
            "min_width": null,
            "object_fit": null,
            "object_position": null,
            "order": null,
            "overflow": null,
            "overflow_x": null,
            "overflow_y": null,
            "padding": null,
            "right": null,
            "top": null,
            "visibility": null,
            "width": null
          }
        },
        "8429aaa079ec43a3acdfae5970bc7c6a": {
          "model_module": "@jupyter-widgets/controls",
          "model_name": "DescriptionStyleModel",
          "model_module_version": "1.5.0",
          "state": {
            "_model_module": "@jupyter-widgets/controls",
            "_model_module_version": "1.5.0",
            "_model_name": "DescriptionStyleModel",
            "_view_count": null,
            "_view_module": "@jupyter-widgets/base",
            "_view_module_version": "1.2.0",
            "_view_name": "StyleView",
            "description_width": ""
          }
        },
        "274ae6f5f8d54f0e932177b3a88c0b15": {
          "model_module": "@jupyter-widgets/controls",
          "model_name": "HBoxModel",
          "model_module_version": "1.5.0",
          "state": {
            "_dom_classes": [],
            "_model_module": "@jupyter-widgets/controls",
            "_model_module_version": "1.5.0",
            "_model_name": "HBoxModel",
            "_view_count": null,
            "_view_module": "@jupyter-widgets/controls",
            "_view_module_version": "1.5.0",
            "_view_name": "HBoxView",
            "box_style": "",
            "children": [
              "IPY_MODEL_31b63e1bbcc0418c91af61a91604a1a9",
              "IPY_MODEL_25100ac68460477ab1b15f3669cba020",
              "IPY_MODEL_89eb0be52b274138b6cd2d967273a7e3"
            ],
            "layout": "IPY_MODEL_2098e95d9c0a43f989f4ff094727cb65"
          }
        },
        "31b63e1bbcc0418c91af61a91604a1a9": {
          "model_module": "@jupyter-widgets/controls",
          "model_name": "HTMLModel",
          "model_module_version": "1.5.0",
          "state": {
            "_dom_classes": [],
            "_model_module": "@jupyter-widgets/controls",
            "_model_module_version": "1.5.0",
            "_model_name": "HTMLModel",
            "_view_count": null,
            "_view_module": "@jupyter-widgets/controls",
            "_view_module_version": "1.5.0",
            "_view_name": "HTMLView",
            "description": "",
            "description_tooltip": null,
            "layout": "IPY_MODEL_5b24a2ce694447c7838231fbe63680ff",
            "placeholder": "​",
            "style": "IPY_MODEL_75219387ab6e4d82aa6156bfae3afd1f",
            "value": "Downloading (…)solve/main/vocab.txt: 100%"
          }
        },
        "25100ac68460477ab1b15f3669cba020": {
          "model_module": "@jupyter-widgets/controls",
          "model_name": "FloatProgressModel",
          "model_module_version": "1.5.0",
          "state": {
            "_dom_classes": [],
            "_model_module": "@jupyter-widgets/controls",
            "_model_module_version": "1.5.0",
            "_model_name": "FloatProgressModel",
            "_view_count": null,
            "_view_module": "@jupyter-widgets/controls",
            "_view_module_version": "1.5.0",
            "_view_name": "ProgressView",
            "bar_style": "success",
            "description": "",
            "description_tooltip": null,
            "layout": "IPY_MODEL_686e2ab118cc482bbd1f7d39da5b9084",
            "max": 231508,
            "min": 0,
            "orientation": "horizontal",
            "style": "IPY_MODEL_627e2ecf7c384709aa83a5991f1b73de",
            "value": 231508
          }
        },
        "89eb0be52b274138b6cd2d967273a7e3": {
          "model_module": "@jupyter-widgets/controls",
          "model_name": "HTMLModel",
          "model_module_version": "1.5.0",
          "state": {
            "_dom_classes": [],
            "_model_module": "@jupyter-widgets/controls",
            "_model_module_version": "1.5.0",
            "_model_name": "HTMLModel",
            "_view_count": null,
            "_view_module": "@jupyter-widgets/controls",
            "_view_module_version": "1.5.0",
            "_view_name": "HTMLView",
            "description": "",
            "description_tooltip": null,
            "layout": "IPY_MODEL_db40f753f072495ba0ea8711545d3eb1",
            "placeholder": "​",
            "style": "IPY_MODEL_789a6e15f3384c03ad2aacf354660ddc",
            "value": " 232k/232k [00:00&lt;00:00, 8.82MB/s]"
          }
        },
        "2098e95d9c0a43f989f4ff094727cb65": {
          "model_module": "@jupyter-widgets/base",
          "model_name": "LayoutModel",
          "model_module_version": "1.2.0",
          "state": {
            "_model_module": "@jupyter-widgets/base",
            "_model_module_version": "1.2.0",
            "_model_name": "LayoutModel",
            "_view_count": null,
            "_view_module": "@jupyter-widgets/base",
            "_view_module_version": "1.2.0",
            "_view_name": "LayoutView",
            "align_content": null,
            "align_items": null,
            "align_self": null,
            "border": null,
            "bottom": null,
            "display": null,
            "flex": null,
            "flex_flow": null,
            "grid_area": null,
            "grid_auto_columns": null,
            "grid_auto_flow": null,
            "grid_auto_rows": null,
            "grid_column": null,
            "grid_gap": null,
            "grid_row": null,
            "grid_template_areas": null,
            "grid_template_columns": null,
            "grid_template_rows": null,
            "height": null,
            "justify_content": null,
            "justify_items": null,
            "left": null,
            "margin": null,
            "max_height": null,
            "max_width": null,
            "min_height": null,
            "min_width": null,
            "object_fit": null,
            "object_position": null,
            "order": null,
            "overflow": null,
            "overflow_x": null,
            "overflow_y": null,
            "padding": null,
            "right": null,
            "top": null,
            "visibility": null,
            "width": null
          }
        },
        "5b24a2ce694447c7838231fbe63680ff": {
          "model_module": "@jupyter-widgets/base",
          "model_name": "LayoutModel",
          "model_module_version": "1.2.0",
          "state": {
            "_model_module": "@jupyter-widgets/base",
            "_model_module_version": "1.2.0",
            "_model_name": "LayoutModel",
            "_view_count": null,
            "_view_module": "@jupyter-widgets/base",
            "_view_module_version": "1.2.0",
            "_view_name": "LayoutView",
            "align_content": null,
            "align_items": null,
            "align_self": null,
            "border": null,
            "bottom": null,
            "display": null,
            "flex": null,
            "flex_flow": null,
            "grid_area": null,
            "grid_auto_columns": null,
            "grid_auto_flow": null,
            "grid_auto_rows": null,
            "grid_column": null,
            "grid_gap": null,
            "grid_row": null,
            "grid_template_areas": null,
            "grid_template_columns": null,
            "grid_template_rows": null,
            "height": null,
            "justify_content": null,
            "justify_items": null,
            "left": null,
            "margin": null,
            "max_height": null,
            "max_width": null,
            "min_height": null,
            "min_width": null,
            "object_fit": null,
            "object_position": null,
            "order": null,
            "overflow": null,
            "overflow_x": null,
            "overflow_y": null,
            "padding": null,
            "right": null,
            "top": null,
            "visibility": null,
            "width": null
          }
        },
        "75219387ab6e4d82aa6156bfae3afd1f": {
          "model_module": "@jupyter-widgets/controls",
          "model_name": "DescriptionStyleModel",
          "model_module_version": "1.5.0",
          "state": {
            "_model_module": "@jupyter-widgets/controls",
            "_model_module_version": "1.5.0",
            "_model_name": "DescriptionStyleModel",
            "_view_count": null,
            "_view_module": "@jupyter-widgets/base",
            "_view_module_version": "1.2.0",
            "_view_name": "StyleView",
            "description_width": ""
          }
        },
        "686e2ab118cc482bbd1f7d39da5b9084": {
          "model_module": "@jupyter-widgets/base",
          "model_name": "LayoutModel",
          "model_module_version": "1.2.0",
          "state": {
            "_model_module": "@jupyter-widgets/base",
            "_model_module_version": "1.2.0",
            "_model_name": "LayoutModel",
            "_view_count": null,
            "_view_module": "@jupyter-widgets/base",
            "_view_module_version": "1.2.0",
            "_view_name": "LayoutView",
            "align_content": null,
            "align_items": null,
            "align_self": null,
            "border": null,
            "bottom": null,
            "display": null,
            "flex": null,
            "flex_flow": null,
            "grid_area": null,
            "grid_auto_columns": null,
            "grid_auto_flow": null,
            "grid_auto_rows": null,
            "grid_column": null,
            "grid_gap": null,
            "grid_row": null,
            "grid_template_areas": null,
            "grid_template_columns": null,
            "grid_template_rows": null,
            "height": null,
            "justify_content": null,
            "justify_items": null,
            "left": null,
            "margin": null,
            "max_height": null,
            "max_width": null,
            "min_height": null,
            "min_width": null,
            "object_fit": null,
            "object_position": null,
            "order": null,
            "overflow": null,
            "overflow_x": null,
            "overflow_y": null,
            "padding": null,
            "right": null,
            "top": null,
            "visibility": null,
            "width": null
          }
        },
        "627e2ecf7c384709aa83a5991f1b73de": {
          "model_module": "@jupyter-widgets/controls",
          "model_name": "ProgressStyleModel",
          "model_module_version": "1.5.0",
          "state": {
            "_model_module": "@jupyter-widgets/controls",
            "_model_module_version": "1.5.0",
            "_model_name": "ProgressStyleModel",
            "_view_count": null,
            "_view_module": "@jupyter-widgets/base",
            "_view_module_version": "1.2.0",
            "_view_name": "StyleView",
            "bar_color": null,
            "description_width": ""
          }
        },
        "db40f753f072495ba0ea8711545d3eb1": {
          "model_module": "@jupyter-widgets/base",
          "model_name": "LayoutModel",
          "model_module_version": "1.2.0",
          "state": {
            "_model_module": "@jupyter-widgets/base",
            "_model_module_version": "1.2.0",
            "_model_name": "LayoutModel",
            "_view_count": null,
            "_view_module": "@jupyter-widgets/base",
            "_view_module_version": "1.2.0",
            "_view_name": "LayoutView",
            "align_content": null,
            "align_items": null,
            "align_self": null,
            "border": null,
            "bottom": null,
            "display": null,
            "flex": null,
            "flex_flow": null,
            "grid_area": null,
            "grid_auto_columns": null,
            "grid_auto_flow": null,
            "grid_auto_rows": null,
            "grid_column": null,
            "grid_gap": null,
            "grid_row": null,
            "grid_template_areas": null,
            "grid_template_columns": null,
            "grid_template_rows": null,
            "height": null,
            "justify_content": null,
            "justify_items": null,
            "left": null,
            "margin": null,
            "max_height": null,
            "max_width": null,
            "min_height": null,
            "min_width": null,
            "object_fit": null,
            "object_position": null,
            "order": null,
            "overflow": null,
            "overflow_x": null,
            "overflow_y": null,
            "padding": null,
            "right": null,
            "top": null,
            "visibility": null,
            "width": null
          }
        },
        "789a6e15f3384c03ad2aacf354660ddc": {
          "model_module": "@jupyter-widgets/controls",
          "model_name": "DescriptionStyleModel",
          "model_module_version": "1.5.0",
          "state": {
            "_model_module": "@jupyter-widgets/controls",
            "_model_module_version": "1.5.0",
            "_model_name": "DescriptionStyleModel",
            "_view_count": null,
            "_view_module": "@jupyter-widgets/base",
            "_view_module_version": "1.2.0",
            "_view_name": "StyleView",
            "description_width": ""
          }
        },
        "9dabe71afdc747cebff2f003c2289a89": {
          "model_module": "@jupyter-widgets/controls",
          "model_name": "HBoxModel",
          "model_module_version": "1.5.0",
          "state": {
            "_dom_classes": [],
            "_model_module": "@jupyter-widgets/controls",
            "_model_module_version": "1.5.0",
            "_model_name": "HBoxModel",
            "_view_count": null,
            "_view_module": "@jupyter-widgets/controls",
            "_view_module_version": "1.5.0",
            "_view_name": "HBoxView",
            "box_style": "",
            "children": [
              "IPY_MODEL_36cae790d9174692b3a0d5247b219b8a",
              "IPY_MODEL_9e49ac2b9d8943aa9a6cb65cecf23cdd",
              "IPY_MODEL_374d0c0df0c640aeadf0bedbfaca2afc"
            ],
            "layout": "IPY_MODEL_753d002509614a22ac8f9f53e125761b"
          }
        },
        "36cae790d9174692b3a0d5247b219b8a": {
          "model_module": "@jupyter-widgets/controls",
          "model_name": "HTMLModel",
          "model_module_version": "1.5.0",
          "state": {
            "_dom_classes": [],
            "_model_module": "@jupyter-widgets/controls",
            "_model_module_version": "1.5.0",
            "_model_name": "HTMLModel",
            "_view_count": null,
            "_view_module": "@jupyter-widgets/controls",
            "_view_module_version": "1.5.0",
            "_view_name": "HTMLView",
            "description": "",
            "description_tooltip": null,
            "layout": "IPY_MODEL_c3ab8ce7044d4670893b65a4f4280ad5",
            "placeholder": "​",
            "style": "IPY_MODEL_81ce7b21fd6748b1ad83e8e02459370a",
            "value": "Downloading (…)/main/tokenizer.json: 100%"
          }
        },
        "9e49ac2b9d8943aa9a6cb65cecf23cdd": {
          "model_module": "@jupyter-widgets/controls",
          "model_name": "FloatProgressModel",
          "model_module_version": "1.5.0",
          "state": {
            "_dom_classes": [],
            "_model_module": "@jupyter-widgets/controls",
            "_model_module_version": "1.5.0",
            "_model_name": "FloatProgressModel",
            "_view_count": null,
            "_view_module": "@jupyter-widgets/controls",
            "_view_module_version": "1.5.0",
            "_view_name": "ProgressView",
            "bar_style": "success",
            "description": "",
            "description_tooltip": null,
            "layout": "IPY_MODEL_4f2e51baa6474deaa5954fad3b3ce7be",
            "max": 466062,
            "min": 0,
            "orientation": "horizontal",
            "style": "IPY_MODEL_c27440a367764dd085c8933c56888284",
            "value": 466062
          }
        },
        "374d0c0df0c640aeadf0bedbfaca2afc": {
          "model_module": "@jupyter-widgets/controls",
          "model_name": "HTMLModel",
          "model_module_version": "1.5.0",
          "state": {
            "_dom_classes": [],
            "_model_module": "@jupyter-widgets/controls",
            "_model_module_version": "1.5.0",
            "_model_name": "HTMLModel",
            "_view_count": null,
            "_view_module": "@jupyter-widgets/controls",
            "_view_module_version": "1.5.0",
            "_view_name": "HTMLView",
            "description": "",
            "description_tooltip": null,
            "layout": "IPY_MODEL_61539679de204e7ea4710124fb0931bc",
            "placeholder": "​",
            "style": "IPY_MODEL_2c4cc50bc219491598b9ee9c611a1e4a",
            "value": " 466k/466k [00:00&lt;00:00, 25.4MB/s]"
          }
        },
        "753d002509614a22ac8f9f53e125761b": {
          "model_module": "@jupyter-widgets/base",
          "model_name": "LayoutModel",
          "model_module_version": "1.2.0",
          "state": {
            "_model_module": "@jupyter-widgets/base",
            "_model_module_version": "1.2.0",
            "_model_name": "LayoutModel",
            "_view_count": null,
            "_view_module": "@jupyter-widgets/base",
            "_view_module_version": "1.2.0",
            "_view_name": "LayoutView",
            "align_content": null,
            "align_items": null,
            "align_self": null,
            "border": null,
            "bottom": null,
            "display": null,
            "flex": null,
            "flex_flow": null,
            "grid_area": null,
            "grid_auto_columns": null,
            "grid_auto_flow": null,
            "grid_auto_rows": null,
            "grid_column": null,
            "grid_gap": null,
            "grid_row": null,
            "grid_template_areas": null,
            "grid_template_columns": null,
            "grid_template_rows": null,
            "height": null,
            "justify_content": null,
            "justify_items": null,
            "left": null,
            "margin": null,
            "max_height": null,
            "max_width": null,
            "min_height": null,
            "min_width": null,
            "object_fit": null,
            "object_position": null,
            "order": null,
            "overflow": null,
            "overflow_x": null,
            "overflow_y": null,
            "padding": null,
            "right": null,
            "top": null,
            "visibility": null,
            "width": null
          }
        },
        "c3ab8ce7044d4670893b65a4f4280ad5": {
          "model_module": "@jupyter-widgets/base",
          "model_name": "LayoutModel",
          "model_module_version": "1.2.0",
          "state": {
            "_model_module": "@jupyter-widgets/base",
            "_model_module_version": "1.2.0",
            "_model_name": "LayoutModel",
            "_view_count": null,
            "_view_module": "@jupyter-widgets/base",
            "_view_module_version": "1.2.0",
            "_view_name": "LayoutView",
            "align_content": null,
            "align_items": null,
            "align_self": null,
            "border": null,
            "bottom": null,
            "display": null,
            "flex": null,
            "flex_flow": null,
            "grid_area": null,
            "grid_auto_columns": null,
            "grid_auto_flow": null,
            "grid_auto_rows": null,
            "grid_column": null,
            "grid_gap": null,
            "grid_row": null,
            "grid_template_areas": null,
            "grid_template_columns": null,
            "grid_template_rows": null,
            "height": null,
            "justify_content": null,
            "justify_items": null,
            "left": null,
            "margin": null,
            "max_height": null,
            "max_width": null,
            "min_height": null,
            "min_width": null,
            "object_fit": null,
            "object_position": null,
            "order": null,
            "overflow": null,
            "overflow_x": null,
            "overflow_y": null,
            "padding": null,
            "right": null,
            "top": null,
            "visibility": null,
            "width": null
          }
        },
        "81ce7b21fd6748b1ad83e8e02459370a": {
          "model_module": "@jupyter-widgets/controls",
          "model_name": "DescriptionStyleModel",
          "model_module_version": "1.5.0",
          "state": {
            "_model_module": "@jupyter-widgets/controls",
            "_model_module_version": "1.5.0",
            "_model_name": "DescriptionStyleModel",
            "_view_count": null,
            "_view_module": "@jupyter-widgets/base",
            "_view_module_version": "1.2.0",
            "_view_name": "StyleView",
            "description_width": ""
          }
        },
        "4f2e51baa6474deaa5954fad3b3ce7be": {
          "model_module": "@jupyter-widgets/base",
          "model_name": "LayoutModel",
          "model_module_version": "1.2.0",
          "state": {
            "_model_module": "@jupyter-widgets/base",
            "_model_module_version": "1.2.0",
            "_model_name": "LayoutModel",
            "_view_count": null,
            "_view_module": "@jupyter-widgets/base",
            "_view_module_version": "1.2.0",
            "_view_name": "LayoutView",
            "align_content": null,
            "align_items": null,
            "align_self": null,
            "border": null,
            "bottom": null,
            "display": null,
            "flex": null,
            "flex_flow": null,
            "grid_area": null,
            "grid_auto_columns": null,
            "grid_auto_flow": null,
            "grid_auto_rows": null,
            "grid_column": null,
            "grid_gap": null,
            "grid_row": null,
            "grid_template_areas": null,
            "grid_template_columns": null,
            "grid_template_rows": null,
            "height": null,
            "justify_content": null,
            "justify_items": null,
            "left": null,
            "margin": null,
            "max_height": null,
            "max_width": null,
            "min_height": null,
            "min_width": null,
            "object_fit": null,
            "object_position": null,
            "order": null,
            "overflow": null,
            "overflow_x": null,
            "overflow_y": null,
            "padding": null,
            "right": null,
            "top": null,
            "visibility": null,
            "width": null
          }
        },
        "c27440a367764dd085c8933c56888284": {
          "model_module": "@jupyter-widgets/controls",
          "model_name": "ProgressStyleModel",
          "model_module_version": "1.5.0",
          "state": {
            "_model_module": "@jupyter-widgets/controls",
            "_model_module_version": "1.5.0",
            "_model_name": "ProgressStyleModel",
            "_view_count": null,
            "_view_module": "@jupyter-widgets/base",
            "_view_module_version": "1.2.0",
            "_view_name": "StyleView",
            "bar_color": null,
            "description_width": ""
          }
        },
        "61539679de204e7ea4710124fb0931bc": {
          "model_module": "@jupyter-widgets/base",
          "model_name": "LayoutModel",
          "model_module_version": "1.2.0",
          "state": {
            "_model_module": "@jupyter-widgets/base",
            "_model_module_version": "1.2.0",
            "_model_name": "LayoutModel",
            "_view_count": null,
            "_view_module": "@jupyter-widgets/base",
            "_view_module_version": "1.2.0",
            "_view_name": "LayoutView",
            "align_content": null,
            "align_items": null,
            "align_self": null,
            "border": null,
            "bottom": null,
            "display": null,
            "flex": null,
            "flex_flow": null,
            "grid_area": null,
            "grid_auto_columns": null,
            "grid_auto_flow": null,
            "grid_auto_rows": null,
            "grid_column": null,
            "grid_gap": null,
            "grid_row": null,
            "grid_template_areas": null,
            "grid_template_columns": null,
            "grid_template_rows": null,
            "height": null,
            "justify_content": null,
            "justify_items": null,
            "left": null,
            "margin": null,
            "max_height": null,
            "max_width": null,
            "min_height": null,
            "min_width": null,
            "object_fit": null,
            "object_position": null,
            "order": null,
            "overflow": null,
            "overflow_x": null,
            "overflow_y": null,
            "padding": null,
            "right": null,
            "top": null,
            "visibility": null,
            "width": null
          }
        },
        "2c4cc50bc219491598b9ee9c611a1e4a": {
          "model_module": "@jupyter-widgets/controls",
          "model_name": "DescriptionStyleModel",
          "model_module_version": "1.5.0",
          "state": {
            "_model_module": "@jupyter-widgets/controls",
            "_model_module_version": "1.5.0",
            "_model_name": "DescriptionStyleModel",
            "_view_count": null,
            "_view_module": "@jupyter-widgets/base",
            "_view_module_version": "1.2.0",
            "_view_name": "StyleView",
            "description_width": ""
          }
        },
        "b52680f5427e42d4a81b11d8beeb1923": {
          "model_module": "@jupyter-widgets/controls",
          "model_name": "HBoxModel",
          "model_module_version": "1.5.0",
          "state": {
            "_dom_classes": [],
            "_model_module": "@jupyter-widgets/controls",
            "_model_module_version": "1.5.0",
            "_model_name": "HBoxModel",
            "_view_count": null,
            "_view_module": "@jupyter-widgets/controls",
            "_view_module_version": "1.5.0",
            "_view_name": "HBoxView",
            "box_style": "",
            "children": [
              "IPY_MODEL_93f10d69a1a147c3a4773a05e033579b",
              "IPY_MODEL_1634bd8033a945bebfc23df2cdd03d65",
              "IPY_MODEL_dbb0ab678f1549f5bc4993c8cf6f3e09"
            ],
            "layout": "IPY_MODEL_487702ec650743c1a6370403b38e6e5e"
          }
        },
        "93f10d69a1a147c3a4773a05e033579b": {
          "model_module": "@jupyter-widgets/controls",
          "model_name": "HTMLModel",
          "model_module_version": "1.5.0",
          "state": {
            "_dom_classes": [],
            "_model_module": "@jupyter-widgets/controls",
            "_model_module_version": "1.5.0",
            "_model_name": "HTMLModel",
            "_view_count": null,
            "_view_module": "@jupyter-widgets/controls",
            "_view_module_version": "1.5.0",
            "_view_name": "HTMLView",
            "description": "",
            "description_tooltip": null,
            "layout": "IPY_MODEL_231ba8f88042442587869f783b361bbd",
            "placeholder": "​",
            "style": "IPY_MODEL_6b07b440cebb46b48d9f99942a135847",
            "value": "Downloading (…)lve/main/config.json: 100%"
          }
        },
        "1634bd8033a945bebfc23df2cdd03d65": {
          "model_module": "@jupyter-widgets/controls",
          "model_name": "FloatProgressModel",
          "model_module_version": "1.5.0",
          "state": {
            "_dom_classes": [],
            "_model_module": "@jupyter-widgets/controls",
            "_model_module_version": "1.5.0",
            "_model_name": "FloatProgressModel",
            "_view_count": null,
            "_view_module": "@jupyter-widgets/controls",
            "_view_module_version": "1.5.0",
            "_view_name": "ProgressView",
            "bar_style": "success",
            "description": "",
            "description_tooltip": null,
            "layout": "IPY_MODEL_a4a257ee706e440881f0327e77cb603c",
            "max": 570,
            "min": 0,
            "orientation": "horizontal",
            "style": "IPY_MODEL_8c7bf2d5a23145398a67d08d971bde7a",
            "value": 570
          }
        },
        "dbb0ab678f1549f5bc4993c8cf6f3e09": {
          "model_module": "@jupyter-widgets/controls",
          "model_name": "HTMLModel",
          "model_module_version": "1.5.0",
          "state": {
            "_dom_classes": [],
            "_model_module": "@jupyter-widgets/controls",
            "_model_module_version": "1.5.0",
            "_model_name": "HTMLModel",
            "_view_count": null,
            "_view_module": "@jupyter-widgets/controls",
            "_view_module_version": "1.5.0",
            "_view_name": "HTMLView",
            "description": "",
            "description_tooltip": null,
            "layout": "IPY_MODEL_5e332a5014a24374b4d874f282694723",
            "placeholder": "​",
            "style": "IPY_MODEL_a11dd31ac14e4137a72194167b30816c",
            "value": " 570/570 [00:00&lt;00:00, 33.3kB/s]"
          }
        },
        "487702ec650743c1a6370403b38e6e5e": {
          "model_module": "@jupyter-widgets/base",
          "model_name": "LayoutModel",
          "model_module_version": "1.2.0",
          "state": {
            "_model_module": "@jupyter-widgets/base",
            "_model_module_version": "1.2.0",
            "_model_name": "LayoutModel",
            "_view_count": null,
            "_view_module": "@jupyter-widgets/base",
            "_view_module_version": "1.2.0",
            "_view_name": "LayoutView",
            "align_content": null,
            "align_items": null,
            "align_self": null,
            "border": null,
            "bottom": null,
            "display": null,
            "flex": null,
            "flex_flow": null,
            "grid_area": null,
            "grid_auto_columns": null,
            "grid_auto_flow": null,
            "grid_auto_rows": null,
            "grid_column": null,
            "grid_gap": null,
            "grid_row": null,
            "grid_template_areas": null,
            "grid_template_columns": null,
            "grid_template_rows": null,
            "height": null,
            "justify_content": null,
            "justify_items": null,
            "left": null,
            "margin": null,
            "max_height": null,
            "max_width": null,
            "min_height": null,
            "min_width": null,
            "object_fit": null,
            "object_position": null,
            "order": null,
            "overflow": null,
            "overflow_x": null,
            "overflow_y": null,
            "padding": null,
            "right": null,
            "top": null,
            "visibility": null,
            "width": null
          }
        },
        "231ba8f88042442587869f783b361bbd": {
          "model_module": "@jupyter-widgets/base",
          "model_name": "LayoutModel",
          "model_module_version": "1.2.0",
          "state": {
            "_model_module": "@jupyter-widgets/base",
            "_model_module_version": "1.2.0",
            "_model_name": "LayoutModel",
            "_view_count": null,
            "_view_module": "@jupyter-widgets/base",
            "_view_module_version": "1.2.0",
            "_view_name": "LayoutView",
            "align_content": null,
            "align_items": null,
            "align_self": null,
            "border": null,
            "bottom": null,
            "display": null,
            "flex": null,
            "flex_flow": null,
            "grid_area": null,
            "grid_auto_columns": null,
            "grid_auto_flow": null,
            "grid_auto_rows": null,
            "grid_column": null,
            "grid_gap": null,
            "grid_row": null,
            "grid_template_areas": null,
            "grid_template_columns": null,
            "grid_template_rows": null,
            "height": null,
            "justify_content": null,
            "justify_items": null,
            "left": null,
            "margin": null,
            "max_height": null,
            "max_width": null,
            "min_height": null,
            "min_width": null,
            "object_fit": null,
            "object_position": null,
            "order": null,
            "overflow": null,
            "overflow_x": null,
            "overflow_y": null,
            "padding": null,
            "right": null,
            "top": null,
            "visibility": null,
            "width": null
          }
        },
        "6b07b440cebb46b48d9f99942a135847": {
          "model_module": "@jupyter-widgets/controls",
          "model_name": "DescriptionStyleModel",
          "model_module_version": "1.5.0",
          "state": {
            "_model_module": "@jupyter-widgets/controls",
            "_model_module_version": "1.5.0",
            "_model_name": "DescriptionStyleModel",
            "_view_count": null,
            "_view_module": "@jupyter-widgets/base",
            "_view_module_version": "1.2.0",
            "_view_name": "StyleView",
            "description_width": ""
          }
        },
        "a4a257ee706e440881f0327e77cb603c": {
          "model_module": "@jupyter-widgets/base",
          "model_name": "LayoutModel",
          "model_module_version": "1.2.0",
          "state": {
            "_model_module": "@jupyter-widgets/base",
            "_model_module_version": "1.2.0",
            "_model_name": "LayoutModel",
            "_view_count": null,
            "_view_module": "@jupyter-widgets/base",
            "_view_module_version": "1.2.0",
            "_view_name": "LayoutView",
            "align_content": null,
            "align_items": null,
            "align_self": null,
            "border": null,
            "bottom": null,
            "display": null,
            "flex": null,
            "flex_flow": null,
            "grid_area": null,
            "grid_auto_columns": null,
            "grid_auto_flow": null,
            "grid_auto_rows": null,
            "grid_column": null,
            "grid_gap": null,
            "grid_row": null,
            "grid_template_areas": null,
            "grid_template_columns": null,
            "grid_template_rows": null,
            "height": null,
            "justify_content": null,
            "justify_items": null,
            "left": null,
            "margin": null,
            "max_height": null,
            "max_width": null,
            "min_height": null,
            "min_width": null,
            "object_fit": null,
            "object_position": null,
            "order": null,
            "overflow": null,
            "overflow_x": null,
            "overflow_y": null,
            "padding": null,
            "right": null,
            "top": null,
            "visibility": null,
            "width": null
          }
        },
        "8c7bf2d5a23145398a67d08d971bde7a": {
          "model_module": "@jupyter-widgets/controls",
          "model_name": "ProgressStyleModel",
          "model_module_version": "1.5.0",
          "state": {
            "_model_module": "@jupyter-widgets/controls",
            "_model_module_version": "1.5.0",
            "_model_name": "ProgressStyleModel",
            "_view_count": null,
            "_view_module": "@jupyter-widgets/base",
            "_view_module_version": "1.2.0",
            "_view_name": "StyleView",
            "bar_color": null,
            "description_width": ""
          }
        },
        "5e332a5014a24374b4d874f282694723": {
          "model_module": "@jupyter-widgets/base",
          "model_name": "LayoutModel",
          "model_module_version": "1.2.0",
          "state": {
            "_model_module": "@jupyter-widgets/base",
            "_model_module_version": "1.2.0",
            "_model_name": "LayoutModel",
            "_view_count": null,
            "_view_module": "@jupyter-widgets/base",
            "_view_module_version": "1.2.0",
            "_view_name": "LayoutView",
            "align_content": null,
            "align_items": null,
            "align_self": null,
            "border": null,
            "bottom": null,
            "display": null,
            "flex": null,
            "flex_flow": null,
            "grid_area": null,
            "grid_auto_columns": null,
            "grid_auto_flow": null,
            "grid_auto_rows": null,
            "grid_column": null,
            "grid_gap": null,
            "grid_row": null,
            "grid_template_areas": null,
            "grid_template_columns": null,
            "grid_template_rows": null,
            "height": null,
            "justify_content": null,
            "justify_items": null,
            "left": null,
            "margin": null,
            "max_height": null,
            "max_width": null,
            "min_height": null,
            "min_width": null,
            "object_fit": null,
            "object_position": null,
            "order": null,
            "overflow": null,
            "overflow_x": null,
            "overflow_y": null,
            "padding": null,
            "right": null,
            "top": null,
            "visibility": null,
            "width": null
          }
        },
        "a11dd31ac14e4137a72194167b30816c": {
          "model_module": "@jupyter-widgets/controls",
          "model_name": "DescriptionStyleModel",
          "model_module_version": "1.5.0",
          "state": {
            "_model_module": "@jupyter-widgets/controls",
            "_model_module_version": "1.5.0",
            "_model_name": "DescriptionStyleModel",
            "_view_count": null,
            "_view_module": "@jupyter-widgets/base",
            "_view_module_version": "1.2.0",
            "_view_name": "StyleView",
            "description_width": ""
          }
        },
        "2c7d92534905441e8f105b62792081fd": {
          "model_module": "@jupyter-widgets/controls",
          "model_name": "HBoxModel",
          "model_module_version": "1.5.0",
          "state": {
            "_dom_classes": [],
            "_model_module": "@jupyter-widgets/controls",
            "_model_module_version": "1.5.0",
            "_model_name": "HBoxModel",
            "_view_count": null,
            "_view_module": "@jupyter-widgets/controls",
            "_view_module_version": "1.5.0",
            "_view_name": "HBoxView",
            "box_style": "",
            "children": [
              "IPY_MODEL_ce3de3313c004d5eb77bcea2c5ef8ca7",
              "IPY_MODEL_7eea548f883e4d21b4b53fd3e0a57b54",
              "IPY_MODEL_a85d5503e2254f1e9600f2b31edac90a"
            ],
            "layout": "IPY_MODEL_c28bcc8f7c17419eb367bd1138d4faff"
          }
        },
        "ce3de3313c004d5eb77bcea2c5ef8ca7": {
          "model_module": "@jupyter-widgets/controls",
          "model_name": "HTMLModel",
          "model_module_version": "1.5.0",
          "state": {
            "_dom_classes": [],
            "_model_module": "@jupyter-widgets/controls",
            "_model_module_version": "1.5.0",
            "_model_name": "HTMLModel",
            "_view_count": null,
            "_view_module": "@jupyter-widgets/controls",
            "_view_module_version": "1.5.0",
            "_view_name": "HTMLView",
            "description": "",
            "description_tooltip": null,
            "layout": "IPY_MODEL_29071ef12ca948aa90d283c1881e0e59",
            "placeholder": "​",
            "style": "IPY_MODEL_eee90178b88a4f27b560afb790b4eb42",
            "value": "Downloading model.safetensors: 100%"
          }
        },
        "7eea548f883e4d21b4b53fd3e0a57b54": {
          "model_module": "@jupyter-widgets/controls",
          "model_name": "FloatProgressModel",
          "model_module_version": "1.5.0",
          "state": {
            "_dom_classes": [],
            "_model_module": "@jupyter-widgets/controls",
            "_model_module_version": "1.5.0",
            "_model_name": "FloatProgressModel",
            "_view_count": null,
            "_view_module": "@jupyter-widgets/controls",
            "_view_module_version": "1.5.0",
            "_view_name": "ProgressView",
            "bar_style": "success",
            "description": "",
            "description_tooltip": null,
            "layout": "IPY_MODEL_a22ed66e526948e59a955196bc5cdc4a",
            "max": 440449768,
            "min": 0,
            "orientation": "horizontal",
            "style": "IPY_MODEL_231fa3bcdeb848aba680f38ff627c965",
            "value": 440449768
          }
        },
        "a85d5503e2254f1e9600f2b31edac90a": {
          "model_module": "@jupyter-widgets/controls",
          "model_name": "HTMLModel",
          "model_module_version": "1.5.0",
          "state": {
            "_dom_classes": [],
            "_model_module": "@jupyter-widgets/controls",
            "_model_module_version": "1.5.0",
            "_model_name": "HTMLModel",
            "_view_count": null,
            "_view_module": "@jupyter-widgets/controls",
            "_view_module_version": "1.5.0",
            "_view_name": "HTMLView",
            "description": "",
            "description_tooltip": null,
            "layout": "IPY_MODEL_34fdde724feb45128327ae69b34a3e54",
            "placeholder": "​",
            "style": "IPY_MODEL_6fa83fec929342c58f720c271f6b26cd",
            "value": " 440M/440M [00:01&lt;00:00, 234MB/s]"
          }
        },
        "c28bcc8f7c17419eb367bd1138d4faff": {
          "model_module": "@jupyter-widgets/base",
          "model_name": "LayoutModel",
          "model_module_version": "1.2.0",
          "state": {
            "_model_module": "@jupyter-widgets/base",
            "_model_module_version": "1.2.0",
            "_model_name": "LayoutModel",
            "_view_count": null,
            "_view_module": "@jupyter-widgets/base",
            "_view_module_version": "1.2.0",
            "_view_name": "LayoutView",
            "align_content": null,
            "align_items": null,
            "align_self": null,
            "border": null,
            "bottom": null,
            "display": null,
            "flex": null,
            "flex_flow": null,
            "grid_area": null,
            "grid_auto_columns": null,
            "grid_auto_flow": null,
            "grid_auto_rows": null,
            "grid_column": null,
            "grid_gap": null,
            "grid_row": null,
            "grid_template_areas": null,
            "grid_template_columns": null,
            "grid_template_rows": null,
            "height": null,
            "justify_content": null,
            "justify_items": null,
            "left": null,
            "margin": null,
            "max_height": null,
            "max_width": null,
            "min_height": null,
            "min_width": null,
            "object_fit": null,
            "object_position": null,
            "order": null,
            "overflow": null,
            "overflow_x": null,
            "overflow_y": null,
            "padding": null,
            "right": null,
            "top": null,
            "visibility": null,
            "width": null
          }
        },
        "29071ef12ca948aa90d283c1881e0e59": {
          "model_module": "@jupyter-widgets/base",
          "model_name": "LayoutModel",
          "model_module_version": "1.2.0",
          "state": {
            "_model_module": "@jupyter-widgets/base",
            "_model_module_version": "1.2.0",
            "_model_name": "LayoutModel",
            "_view_count": null,
            "_view_module": "@jupyter-widgets/base",
            "_view_module_version": "1.2.0",
            "_view_name": "LayoutView",
            "align_content": null,
            "align_items": null,
            "align_self": null,
            "border": null,
            "bottom": null,
            "display": null,
            "flex": null,
            "flex_flow": null,
            "grid_area": null,
            "grid_auto_columns": null,
            "grid_auto_flow": null,
            "grid_auto_rows": null,
            "grid_column": null,
            "grid_gap": null,
            "grid_row": null,
            "grid_template_areas": null,
            "grid_template_columns": null,
            "grid_template_rows": null,
            "height": null,
            "justify_content": null,
            "justify_items": null,
            "left": null,
            "margin": null,
            "max_height": null,
            "max_width": null,
            "min_height": null,
            "min_width": null,
            "object_fit": null,
            "object_position": null,
            "order": null,
            "overflow": null,
            "overflow_x": null,
            "overflow_y": null,
            "padding": null,
            "right": null,
            "top": null,
            "visibility": null,
            "width": null
          }
        },
        "eee90178b88a4f27b560afb790b4eb42": {
          "model_module": "@jupyter-widgets/controls",
          "model_name": "DescriptionStyleModel",
          "model_module_version": "1.5.0",
          "state": {
            "_model_module": "@jupyter-widgets/controls",
            "_model_module_version": "1.5.0",
            "_model_name": "DescriptionStyleModel",
            "_view_count": null,
            "_view_module": "@jupyter-widgets/base",
            "_view_module_version": "1.2.0",
            "_view_name": "StyleView",
            "description_width": ""
          }
        },
        "a22ed66e526948e59a955196bc5cdc4a": {
          "model_module": "@jupyter-widgets/base",
          "model_name": "LayoutModel",
          "model_module_version": "1.2.0",
          "state": {
            "_model_module": "@jupyter-widgets/base",
            "_model_module_version": "1.2.0",
            "_model_name": "LayoutModel",
            "_view_count": null,
            "_view_module": "@jupyter-widgets/base",
            "_view_module_version": "1.2.0",
            "_view_name": "LayoutView",
            "align_content": null,
            "align_items": null,
            "align_self": null,
            "border": null,
            "bottom": null,
            "display": null,
            "flex": null,
            "flex_flow": null,
            "grid_area": null,
            "grid_auto_columns": null,
            "grid_auto_flow": null,
            "grid_auto_rows": null,
            "grid_column": null,
            "grid_gap": null,
            "grid_row": null,
            "grid_template_areas": null,
            "grid_template_columns": null,
            "grid_template_rows": null,
            "height": null,
            "justify_content": null,
            "justify_items": null,
            "left": null,
            "margin": null,
            "max_height": null,
            "max_width": null,
            "min_height": null,
            "min_width": null,
            "object_fit": null,
            "object_position": null,
            "order": null,
            "overflow": null,
            "overflow_x": null,
            "overflow_y": null,
            "padding": null,
            "right": null,
            "top": null,
            "visibility": null,
            "width": null
          }
        },
        "231fa3bcdeb848aba680f38ff627c965": {
          "model_module": "@jupyter-widgets/controls",
          "model_name": "ProgressStyleModel",
          "model_module_version": "1.5.0",
          "state": {
            "_model_module": "@jupyter-widgets/controls",
            "_model_module_version": "1.5.0",
            "_model_name": "ProgressStyleModel",
            "_view_count": null,
            "_view_module": "@jupyter-widgets/base",
            "_view_module_version": "1.2.0",
            "_view_name": "StyleView",
            "bar_color": null,
            "description_width": ""
          }
        },
        "34fdde724feb45128327ae69b34a3e54": {
          "model_module": "@jupyter-widgets/base",
          "model_name": "LayoutModel",
          "model_module_version": "1.2.0",
          "state": {
            "_model_module": "@jupyter-widgets/base",
            "_model_module_version": "1.2.0",
            "_model_name": "LayoutModel",
            "_view_count": null,
            "_view_module": "@jupyter-widgets/base",
            "_view_module_version": "1.2.0",
            "_view_name": "LayoutView",
            "align_content": null,
            "align_items": null,
            "align_self": null,
            "border": null,
            "bottom": null,
            "display": null,
            "flex": null,
            "flex_flow": null,
            "grid_area": null,
            "grid_auto_columns": null,
            "grid_auto_flow": null,
            "grid_auto_rows": null,
            "grid_column": null,
            "grid_gap": null,
            "grid_row": null,
            "grid_template_areas": null,
            "grid_template_columns": null,
            "grid_template_rows": null,
            "height": null,
            "justify_content": null,
            "justify_items": null,
            "left": null,
            "margin": null,
            "max_height": null,
            "max_width": null,
            "min_height": null,
            "min_width": null,
            "object_fit": null,
            "object_position": null,
            "order": null,
            "overflow": null,
            "overflow_x": null,
            "overflow_y": null,
            "padding": null,
            "right": null,
            "top": null,
            "visibility": null,
            "width": null
          }
        },
        "6fa83fec929342c58f720c271f6b26cd": {
          "model_module": "@jupyter-widgets/controls",
          "model_name": "DescriptionStyleModel",
          "model_module_version": "1.5.0",
          "state": {
            "_model_module": "@jupyter-widgets/controls",
            "_model_module_version": "1.5.0",
            "_model_name": "DescriptionStyleModel",
            "_view_count": null,
            "_view_module": "@jupyter-widgets/base",
            "_view_module_version": "1.2.0",
            "_view_name": "StyleView",
            "description_width": ""
          }
        }
      }
    },
    "accelerator": "GPU"
  },
  "cells": [
    {
      "cell_type": "code",
      "execution_count": null,
      "metadata": {
        "id": "Cu28cwbBo1u9",
        "colab": {
          "base_uri": "https://localhost:8080/"
        },
        "outputId": "ff81c0b1-366d-4e79-c5c5-a0d567f6db5f"
      },
      "outputs": [
        {
          "output_type": "stream",
          "name": "stdout",
          "text": [
            "Mounted at /content/drive\n"
          ]
        }
      ],
      "source": [
        "from google.colab import drive\n",
        "drive.mount('/content/drive')"
      ]
    },
    {
      "cell_type": "code",
      "source": [
        "import numpy as np\n",
        "import pandas as pd\n",
        "import re\n",
        "import matplotlib.pyplot as plt\n",
        "import numpy as np\n",
        "import pandas as pd\n",
        "import tensorflow as tf\n",
        "import matplotlib.pyplot as plt\n",
        "import seaborn as sns\n",
        "\n",
        "from sklearn.ensemble import RandomForestClassifier, AdaBoostClassifier\n",
        "from sklearn.metrics import accuracy_score, precision_score, recall_score, f1_score\n",
        "from sklearn.tree import DecisionTreeClassifier\n",
        "from sklearn.svm import SVC\n",
        "from sklearn.neural_network import MLPClassifier\n",
        "from sklearn.metrics import accuracy_score\n",
        "from keras.models import Sequential\n",
        "from keras.layers import LSTM, Dense\n",
        "from keras.optimizers import Adam\n",
        "from sklearn.preprocessing import LabelEncoder\n",
        "import matplotlib.pyplot as plt\n",
        "%matplotlib inline\n",
        "import seaborn as sns\n",
        "import warnings\n",
        "warnings.filterwarnings('ignore')\n",
        "\n",
        "from tqdm.auto import tqdm\n",
        "import tensorflow as tf\n",
        "\n",
        "#data processing\n",
        "import re, string\n",
        "# import emoji\n",
        "import nltk\n",
        "\n",
        "from sklearn import preprocessing\n",
        "from imblearn.over_sampling import RandomOverSampler\n",
        "from sklearn.model_selection import train_test_split\n",
        "\n",
        "\n",
        "#Naive Bayes\n",
        "from sklearn.feature_extraction.text import CountVectorizer\n",
        "from sklearn.feature_extraction.text import TfidfTransformer\n",
        "from sklearn.naive_bayes import MultinomialNB\n",
        "\n",
        "#transformers\n",
        "from transformers import BertTokenizerFast\n",
        "from transformers import TFBertModel\n",
        "from transformers import RobertaTokenizerFast\n",
        "from transformers import TFRobertaModel\n",
        "\n",
        "#keras\n",
        "import tensorflow as tf\n",
        "from tensorflow import keras\n",
        "\n",
        "\n",
        "#metrics\n",
        "from sklearn.metrics import accuracy_score, f1_score\n",
        "from sklearn.metrics import classification_report, confusion_matrix\n",
        "\n",
        "#set seed for reproducibility\n",
        "seed=42"
      ],
      "metadata": {
        "id": "OyF3gkCVo_8l"
      },
      "execution_count": null,
      "outputs": []
    },
    {
      "cell_type": "markdown",
      "source": [
        "EDA Process, Random Forest,Decision tree, Adaboost, SVM,Multi Layer Perceptron, LSTM"
      ],
      "metadata": {
        "id": "NHkNLZdH_Aa6"
      }
    },
    {
      "cell_type": "code",
      "execution_count": null,
      "metadata": {
        "id": "MUsiKUiN8VLR"
      },
      "outputs": [],
      "source": [
        "#Read the dataset\n",
        "df1 = pd.read_csv('2022-12-09-enriched.csv')\n",
        "df2 = pd.read_csv('2022-07-04-enriched.csv')\n",
        "df3 = pd.read_csv('2022-06-27-enriched.csv')\n",
        "df4 = pd.read_csv('2022-06-09-enriched.csv')\n",
        "df5 = pd.read_csv('2022-06-08-enriched.csv')\n",
        "df = pd.concat([df5,df4,df3,df2,df1], axis=0, ignore_index=True)"
      ]
    },
    {
      "cell_type": "code",
      "execution_count": null,
      "metadata": {
        "id": "WBjgXCAU8VFA"
      },
      "outputs": [],
      "source": [
        "#checking the null values\n",
        "df.isnull().sum()"
      ]
    },
    {
      "cell_type": "code",
      "execution_count": null,
      "metadata": {
        "id": "DeLPUO3l9R17"
      },
      "outputs": [],
      "source": [
        "df =  df.drop(['notes'],axis=1)"
      ]
    },
    {
      "cell_type": "code",
      "execution_count": null,
      "metadata": {
        "id": "RdAvcE5E9Rzl"
      },
      "outputs": [],
      "source": [
        "df.info()"
      ]
    },
    {
      "cell_type": "code",
      "execution_count": null,
      "metadata": {
        "id": "eIacs7rX9Rw5"
      },
      "outputs": [],
      "source": [
        "df['cvss'] = df['cvss'].fillna(df['cvss'].median())\n",
        "df['product'] = df['product'].fillna(df['product'].mode()[0])\n",
        "df['short_description'] = df['short_description'].fillna(df['short_description'].mode()[0])\n",
        "df['pub_date'] = df['pub_date'].fillna(df['pub_date'].mode()[0])\n",
        "df['cwe'] = df['cwe'].fillna(df['cwe'].mode()[0])\n",
        "df['vector'] = df['vector'].fillna(df['vector'].mode()[0])\n",
        "df['complexity'] = df['complexity'].fillna(df['complexity'].mode()[0])\n",
        "df['severity'] = df['severity'].fillna(df['severity'].mode()[0])\n"
      ]
    },
    {
      "cell_type": "code",
      "execution_count": null,
      "metadata": {
        "id": "WJj6KtsW9Rsk"
      },
      "outputs": [],
      "source": [
        "df.isnull().sum()"
      ]
    },
    {
      "cell_type": "code",
      "execution_count": null,
      "metadata": {
        "id": "xS-gmhcVMQja"
      },
      "outputs": [],
      "source": [
        "df.columns"
      ]
    },
    {
      "cell_type": "markdown",
      "metadata": {
        "id": "W8FcHgPuNPaz"
      },
      "source": [
        "#find the correlation matrix"
      ]
    },
    {
      "cell_type": "code",
      "execution_count": null,
      "metadata": {
        "id": "erki0gSvOKco"
      },
      "outputs": [],
      "source": [
        "#filling the missing\n",
        "df['cvss'] = df['cvss'].fillna(df['cvss'].median())\n",
        "df['product'] = df['product'].fillna(df['product'].mode()[0])\n",
        "df['short_description'] = df['short_description'].fillna(df['short_description'].mode()[0])\n",
        "df['pub_date'] = df['pub_date'].fillna(df['pub_date'].mode()[0])\n",
        "df['cwe'] = df['cwe'].fillna(df['cwe'].mode()[0])\n",
        "df['vector'] = df['vector'].fillna(df['vector'].mode()[0])\n",
        "df['complexity'] = df['complexity'].fillna(df['complexity'].mode()[0])\n",
        "df['severity'] = df['severity'].fillna(df['severity'].mode()[0])"
      ]
    },
    {
      "cell_type": "code",
      "execution_count": null,
      "metadata": {
        "id": "jSfWWhcZOKZk"
      },
      "outputs": [],
      "source": [
        "df.isnull().sum()"
      ]
    },
    {
      "cell_type": "code",
      "execution_count": null,
      "metadata": {
        "colab": {
          "base_uri": "https://localhost:8080/",
          "height": 469
        },
        "id": "JZmvIiPLOKWt",
        "outputId": "115bf702-9a91-47dc-a458-26f76eea97c6"
      },
      "outputs": [
        {
          "data": {
            "text/plain": [
              "<Axes: xlabel='severity', ylabel='count'>"
            ]
          },
          "execution_count": 14,
          "metadata": {},
          "output_type": "execute_result"
        },
        {
          "data": {
            "image/png": "[encoded data removed]",
            "text/plain": [
              "<Figure size 640x480 with 1 Axes>"
            ]
          },
          "metadata": {},
          "output_type": "display_data"
        }
      ],
      "source": [
        "# countplot for severity\n",
        "sns.countplot(x='severity', data = df,palette='hls')"
      ]
    },
    {
      "cell_type": "code",
      "execution_count": null,
      "metadata": {
        "colab": {
          "base_uri": "https://localhost:8080/",
          "height": 428
        },
        "id": "8Im12pLEOKTZ",
        "outputId": "2cfd8dd2-9451-4ad2-ba83-e7df5cb26aa8"
      },
      "outputs": [
        {
          "data": {
            "image/png": "[encoded data removed]",
            "text/plain": [
              "<Figure size 640x480 with 1 Axes>"
            ]
          },
          "metadata": {},
          "output_type": "display_data"
        }
      ],
      "source": [
        "#pie chart for Severity\n",
        "colors = ['palegreen', 'salmon','orchid','red']  # Custom colors for the pie chart\n",
        "\n",
        "df['severity'].value_counts().plot(kind='pie', autopct='%1.1f%%', shadow=True, colors=colors)\n",
        "\n",
        "plt.axis('equal')  # Set aspect ratio to make the pie circular\n",
        "plt.title('Severity Distribution')\n",
        "plt.legend()\n",
        "plt.show()"
      ]
    },
    {
      "cell_type": "code",
      "execution_count": null,
      "metadata": {
        "colab": {
          "base_uri": "https://localhost:8080/"
        },
        "id": "qA-TTPKWOKQd",
        "outputId": "410a2815-47cf-4eab-dfab-9a91007cbfb8"
      },
      "outputs": [
        {
          "data": {
            "text/plain": [
              "HIGH        2882\n",
              "CRITICAL     853\n",
              "MEDIUM       245\n",
              "LOW            4\n",
              "Name: severity, dtype: int64"
            ]
          },
          "execution_count": 16,
          "metadata": {},
          "output_type": "execute_result"
        }
      ],
      "source": [
        "#severity counts\n",
        "df['severity'].value_counts()"
      ]
    },
    {
      "cell_type": "code",
      "execution_count": null,
      "metadata": {
        "colab": {
          "base_uri": "https://localhost:8080/",
          "height": 428
        },
        "id": "whU7p2jDOKM1",
        "outputId": "0e282775-c99b-4a31-8b1e-82f44bef40e5"
      },
      "outputs": [
        {
          "data": {
            "image/png": "[encoded data removed]",
            "text/plain": [
              "<Figure size 640x480 with 1 Axes>"
            ]
          },
          "metadata": {},
          "output_type": "display_data"
        }
      ],
      "source": [
        "#Vector Distribution\n",
        "colors = ['violet', 'purple', 'yellow']  # Custom colors for the pie chart\n",
        "\n",
        "df['vector'].value_counts().plot(kind='pie', autopct='%1.1f%%', shadow=True, colors=colors)\n",
        "\n",
        "plt.axis('equal')  # Set aspect ratio to make the pie circular\n",
        "plt.title('Vector Distribution')\n",
        "plt.legend()\n",
        "plt.show()"
      ]
    },
    {
      "cell_type": "code",
      "execution_count": null,
      "metadata": {
        "colab": {
          "base_uri": "https://localhost:8080/"
        },
        "id": "_qkNef_MOzjM",
        "outputId": "166755f6-4ca0-4fdd-cc36-6f9a7aca47d6"
      },
      "outputs": [
        {
          "data": {
            "text/plain": [
              "NETWORK             3322\n",
              "LOCAL                625\n",
              "ADJACENT_NETWORK      37\n",
              "Name: vector, dtype: int64"
            ]
          },
          "execution_count": 18,
          "metadata": {},
          "output_type": "execute_result"
        }
      ],
      "source": [
        "#Vector counts\n",
        "df['vector'].value_counts()"
      ]
    },
    {
      "cell_type": "code",
      "execution_count": null,
      "metadata": {
        "colab": {
          "base_uri": "https://localhost:8080/"
        },
        "id": "dwVG0Y6MOzgM",
        "outputId": "362c41a5-4ee6-4a81-9d69-9e12abf7b307"
      },
      "outputs": [
        {
          "data": {
            "text/plain": [
              "LOW     3758\n",
              "HIGH     226\n",
              "Name: complexity, dtype: int64"
            ]
          },
          "execution_count": 19,
          "metadata": {},
          "output_type": "execute_result"
        }
      ],
      "source": [
        "#complexity count\n",
        "df['complexity'].value_counts()"
      ]
    },
    {
      "cell_type": "code",
      "execution_count": null,
      "metadata": {
        "colab": {
          "base_uri": "https://localhost:8080/",
          "height": 466
        },
        "id": "Dpd43vP0OzdS",
        "outputId": "8effe788-bf42-49e7-9a9c-5408e930abe5"
      },
      "outputs": [
        {
          "data": {
            "text/plain": [
              "<Axes: xlabel='complexity', ylabel='count'>"
            ]
          },
          "execution_count": 20,
          "metadata": {},
          "output_type": "execute_result"
        },
        {
          "data": {
            "image/png": "[encoded data removed]",
            "text/plain": [
              "<Figure size 640x480 with 1 Axes>"
            ]
          },
          "metadata": {},
          "output_type": "display_data"
        }
      ],
      "source": [
        "#countplot for complexity\n",
        "sns.countplot(x='complexity', hue=\"severity\",data = df,palette='Set1')"
      ]
    },
    {
      "cell_type": "code",
      "execution_count": null,
      "metadata": {
        "colab": {
          "base_uri": "https://localhost:8080/",
          "height": 644
        },
        "id": "8YzFvN8mOzac",
        "outputId": "530d8465-52fa-4c6c-d2af-a41414f01897"
      },
      "outputs": [
        {
          "data": {
            "image/png": "[encoded data removed]",
            "text/plain": [
              "<Figure size 900x500 with 1 Axes>"
            ]
          },
          "metadata": {},
          "output_type": "display_data"
        }
      ],
      "source": [
        "#Top 10 product\n",
        "plt.figure(figsize = (9,5))\n",
        "product_counts = df['product'].value_counts().head(10)\n",
        "colors = ['#FF6384', '#36A2EB', '#FFCE56', '#8C4FFB', '#FF9F40', '#4AC5BB', '#E85462', '#6FC4F7', '#DB4C70', '#F3B166']\n",
        "plt.bar(product_counts.index, product_counts.values, color=colors)\n",
        "plt.xlabel('Product')\n",
        "plt.ylabel('Count')\n",
        "plt.title('Top 10 Products by Vulnerability Count')\n",
        "plt.xticks(rotation=90)\n",
        "plt.show()\n"
      ]
    },
    {
      "cell_type": "code",
      "execution_count": null,
      "metadata": {
        "colab": {
          "base_uri": "https://localhost:8080/",
          "height": 589
        },
        "id": "C_L994sCOzXP",
        "outputId": "abe6f2b2-80fe-4538-84ce-162b3faad1b6"
      },
      "outputs": [
        {
          "data": {
            "image/png": "[encoded data removed]",
            "text/plain": [
              "<Figure size 900x500 with 1 Axes>"
            ]
          },
          "metadata": {},
          "output_type": "display_data"
        }
      ],
      "source": [
        "#Top 10 Cwe Categories\n",
        "plt.figure(figsize = (9,5))\n",
        "colors = ['#FFD700', '#7FFF00', '#FF1493', '#00CED1', '#FF4500', '#8A2BE2', '#00FF00', '#800080', '#00FF7F', '#008080']\n",
        "top_10_cwe = df['cwe'].value_counts().head(10)\n",
        "plt.bar(top_10_cwe.index, top_10_cwe.values, color=colors)\n",
        "plt.xlabel('CWE Category')\n",
        "plt.ylabel('Count')\n",
        "plt.title('Top 10 CWE Categories')\n",
        "plt.xticks(rotation=90)\n",
        "plt.show()\n"
      ]
    },
    {
      "cell_type": "code",
      "execution_count": null,
      "metadata": {
        "colab": {
          "base_uri": "https://localhost:8080/",
          "height": 472
        },
        "id": "ESr7JbEGOzUF",
        "outputId": "a039fe52-4109-4fb6-baab-a527e691b073"
      },
      "outputs": [
        {
          "data": {
            "image/png": "[encoded data removed]",
            "text/plain": [
              "<Figure size 640x480 with 1 Axes>"
            ]
          },
          "metadata": {},
          "output_type": "display_data"
        }
      ],
      "source": [
        "#Distribution of CVSS\n",
        "plt.hist(df['cvss'], bins=10, edgecolor='black')\n",
        "plt.xlabel('CVSS Score')\n",
        "plt.ylabel('Count')\n",
        "plt.title('Distribution of CVSS Scores')\n",
        "plt.show()\n"
      ]
    },
    {
      "cell_type": "code",
      "execution_count": null,
      "metadata": {
        "colab": {
          "base_uri": "https://localhost:8080/",
          "height": 468
        },
        "id": "n_vZiHCmOzQv",
        "outputId": "20269ec9-acaa-4fad-ddae-0ff531042463"
      },
      "outputs": [
        {
          "data": {
            "image/png": "[encoded data removed]",
            "text/plain": [
              "<Figure size 900x500 with 2 Axes>"
            ]
          },
          "metadata": {},
          "output_type": "display_data"
        }
      ],
      "source": [
        "#correlation plot\n",
        "plt.figure(figsize = (9,5))\n",
        "# Calculate the correlation matrix\n",
        "correlation_matrix = df.corr()\n",
        "# Create the heatmap\n",
        "sns.heatmap(correlation_matrix, annot=True, cmap='coolwarm')\n",
        "plt.title('Correlation Matrix')\n",
        "plt.show()"
      ]
    },
    {
      "cell_type": "code",
      "execution_count": null,
      "metadata": {
        "colab": {
          "base_uri": "https://localhost:8080/"
        },
        "id": "sBcyAvN6OzM8",
        "outputId": "f82e2583-5432-43ed-d887-03a5ca901086"
      },
      "outputs": [
        {
          "name": "stdout",
          "output_type": "stream",
          "text": [
            "<class 'pandas.core.frame.DataFrame'>\n",
            "RangeIndex: 3984 entries, 0 to 3983\n",
            "Data columns (total 15 columns):\n",
            " #   Column              Non-Null Count  Dtype  \n",
            "---  ------              --------------  -----  \n",
            " 0   cve_id              3984 non-null   object \n",
            " 1   vendor_project      3984 non-null   object \n",
            " 2   product             3984 non-null   object \n",
            " 3   vulnerability_name  3984 non-null   object \n",
            " 4   date_added          3984 non-null   object \n",
            " 5   short_description   3984 non-null   object \n",
            " 6   required_action     3984 non-null   object \n",
            " 7   due_date            3984 non-null   object \n",
            " 8   grp                 3984 non-null   int64  \n",
            " 9   pub_date            3984 non-null   object \n",
            " 10  cvss                3984 non-null   float64\n",
            " 11  cwe                 3984 non-null   object \n",
            " 12  vector              3984 non-null   object \n",
            " 13  complexity          3984 non-null   object \n",
            " 14  severity            3984 non-null   object \n",
            "dtypes: float64(1), int64(1), object(13)\n",
            "memory usage: 467.0+ KB\n"
          ]
        }
      ],
      "source": [
        "df.info()"
      ]
    },
    {
      "cell_type": "code",
      "execution_count": null,
      "metadata": {
        "id": "mNa7MyP6PWTp"
      },
      "outputs": [],
      "source": [
        "label_encoder = LabelEncoder()\n",
        "df['cve_id'] = label_encoder.fit_transform(df['cve_id'])\n",
        "df['vendor_project'] = label_encoder.fit_transform(df['vendor_project'])\n",
        "df['product'] = label_encoder.fit_transform(df['product'])\n",
        "df['vulnerability_name'] = label_encoder.fit_transform(df['vulnerability_name'])\n",
        "df['due_date'] = pd.to_datetime(df['due_date']) # Convert date to datetime type\n",
        "df['pub_date'] = pd.to_datetime(df['pub_date']) # Convert date to datetime type\n",
        "df['date_added'] = pd.to_datetime(df['date_added']) # Convert date to datetime type\n",
        "df['short_description'] = label_encoder.fit_transform(df['short_description'])\n",
        "df['required_action'] = label_encoder.fit_transform(df['required_action'])\n",
        "df['cwe'] = label_encoder.fit_transform(df['cwe'])\n",
        "df['vector'] = label_encoder.fit_transform(df['vector'])\n",
        "df['complexity'] = label_encoder.fit_transform(df['complexity'])\n",
        "df['severity'] = label_encoder.fit_transform(df['severity'])"
      ]
    },
    {
      "cell_type": "code",
      "execution_count": null,
      "metadata": {
        "colab": {
          "base_uri": "https://localhost:8080/",
          "height": 587
        },
        "id": "g99PqO8-PWQa",
        "outputId": "5e335724-0d35-4a07-fbf0-cca42c75521c"
      },
      "outputs": [
        {
          "data": {
            "image/png": "[encoded data removed]",
            "text/plain": [
              "<Figure size 900x500 with 2 Axes>"
            ]
          },
          "metadata": {},
          "output_type": "display_data"
        }
      ],
      "source": [
        "#correlation plot\n",
        "plt.figure(figsize = (9,5))\n",
        "# Calculate the correlation matrix\n",
        "correlation_matrix = df.corr()\n",
        "# Create the heatmap\n",
        "sns.heatmap(correlation_matrix, annot=True, cmap='coolwarm')\n",
        "plt.title('Correlation Matrix')\n",
        "plt.show()"
      ]
    },
    {
      "cell_type": "code",
      "execution_count": null,
      "metadata": {
        "id": "gs3eONFQPWMc"
      },
      "outputs": [],
      "source": [
        "df = df.drop(['due_date', 'pub_date', 'date_added','cvss','cve_id'], axis=1)\n"
      ]
    },
    {
      "cell_type": "code",
      "execution_count": null,
      "metadata": {
        "id": "HfQU9SmjPWJE"
      },
      "outputs": [],
      "source": [
        "# Split the dataset into features and target variable\n",
        "X = df.drop(['severity'], axis=1)\n",
        "y = df['severity']\n"
      ]
    },
    {
      "cell_type": "code",
      "execution_count": null,
      "metadata": {
        "id": "vZZ0H4kuPWFY"
      },
      "outputs": [],
      "source": [
        "# Split the dataset into training and testing sets\n",
        "X_train, X_test, y_train, y_test = train_test_split(X, y, test_size=0.2, random_state=42)\n"
      ]
    },
    {
      "cell_type": "code",
      "execution_count": null,
      "metadata": {
        "colab": {
          "base_uri": "https://localhost:8080/"
        },
        "id": "QKPXxsseQLTM",
        "outputId": "e18d7346-ab92-4a1b-c071-d0adaf083e2b"
      },
      "outputs": [
        {
          "name": "stdout",
          "output_type": "stream",
          "text": [
            "Random Forest:\n",
            "Accuracy: 0.9836888331242158\n",
            "Precision: 0.9815370032224553\n",
            "Recall: 0.9836888331242158\n",
            "F1-score: 0.9815636320274107\n"
          ]
        }
      ],
      "source": [
        "# Random Forest Classifier\n",
        "rf_classifier = RandomForestClassifier(n_estimators=100, max_depth=5, min_samples_split=10, min_samples_leaf=5, max_features='sqrt')\n",
        "rf_classifier.fit(X_train, y_train)\n",
        "rf_predictions = rf_classifier.predict(X_test)\n",
        "rf_accuracy = accuracy_score(y_test, rf_predictions)\n",
        "rf_precision = precision_score(y_test, rf_predictions, average='weighted')\n",
        "rf_recall = recall_score(y_test, rf_predictions, average='weighted')\n",
        "rf_f1 = f1_score(y_test, rf_predictions, average='weighted')\n",
        "print(\"Random Forest:\")\n",
        "print(\"Accuracy:\", rf_accuracy)\n",
        "print(\"Precision:\", rf_precision)\n",
        "print(\"Recall:\", rf_recall)\n",
        "print(\"F1-score:\", rf_f1)\n",
        "#confusion matrix"
      ]
    },
    {
      "cell_type": "code",
      "execution_count": null,
      "metadata": {
        "colab": {
          "base_uri": "https://localhost:8080/"
        },
        "id": "HC6GXc9HQLPx",
        "outputId": "19497e25-4162-477b-df57-41ed609c8cb0"
      },
      "outputs": [
        {
          "name": "stdout",
          "output_type": "stream",
          "text": [
            "Decision Tree:\n",
            "Accuracy: 0.9974905897114178\n",
            "Precision: 0.995087962839371\n",
            "Recall: 0.9974905897114178\n",
            "F1-score: 0.9962631607659156\n"
          ]
        }
      ],
      "source": [
        "# Decision Tree Classifier\n",
        "dt_classifier = DecisionTreeClassifier(max_depth=5, min_samples_split=10, min_samples_leaf=5)\n",
        "dt_classifier.fit(X_train, y_train)\n",
        "dt_predictions = dt_classifier.predict(X_test)\n",
        "dt_accuracy = accuracy_score(y_test, dt_predictions)\n",
        "dt_precision = precision_score(y_test, dt_predictions, average='weighted')\n",
        "dt_recall = recall_score(y_test, dt_predictions, average='weighted')\n",
        "dt_f1 = f1_score(y_test, dt_predictions, average='weighted')\n",
        "print(\"Decision Tree:\")\n",
        "print(\"Accuracy:\", dt_accuracy)\n",
        "print(\"Precision:\", dt_precision)\n",
        "print(\"Recall:\", dt_recall)\n",
        "print(\"F1-score:\", dt_f1)\n",
        "\n"
      ]
    },
    {
      "cell_type": "code",
      "execution_count": null,
      "metadata": {
        "colab": {
          "base_uri": "https://localhost:8080/"
        },
        "id": "cQgBfx6oQLMc",
        "outputId": "12969ef9-a02f-4463-a800-044c5fb656d2"
      },
      "outputs": [
        {
          "name": "stdout",
          "output_type": "stream",
          "text": [
            "AdaBoost:\n",
            "Accuracy: 0.9435382685069009\n",
            "Precision: 0.8911417816813049\n",
            "Recall: 0.9435382685069009\n",
            "F1-score: 0.9163616674562807\n"
          ]
        }
      ],
      "source": [
        "# AdaBoost Classifier\n",
        "adaboost_classifier = AdaBoostClassifier()\n",
        "adaboost_classifier.fit(X_train, y_train)\n",
        "adaboost_predictions = adaboost_classifier.predict(X_test)\n",
        "adaboost_accuracy = accuracy_score(y_test, adaboost_predictions)\n",
        "adaboost_precision = precision_score(y_test, adaboost_predictions, average='weighted')\n",
        "adaboost_recall = recall_score(y_test, adaboost_predictions, average='weighted')\n",
        "adaboost_f1 = f1_score(y_test, adaboost_predictions, average='weighted')\n",
        "print(\"AdaBoost:\")\n",
        "print(\"Accuracy:\", adaboost_accuracy)\n",
        "print(\"Precision:\", adaboost_precision)\n",
        "print(\"Recall:\", adaboost_recall)\n",
        "print(\"F1-score:\", adaboost_f1)"
      ]
    },
    {
      "cell_type": "code",
      "execution_count": null,
      "metadata": {
        "colab": {
          "base_uri": "https://localhost:8080/"
        },
        "id": "t2cxJNEpQLJH",
        "outputId": "33073c85-3b83-4cca-dce6-123b4b0f27c9"
      },
      "outputs": [
        {
          "name": "stdout",
          "output_type": "stream",
          "text": [
            "Support Vector Machine:\n",
            "Accuracy: 0.7277289836888331\n",
            "Precision: 0.5295894737007819\n",
            "Recall: 0.7277289836888331\n",
            "F1-score: 0.6130469288881963\n"
          ]
        }
      ],
      "source": [
        "# Support Vector Machine\n",
        "svm_classifier = SVC()\n",
        "svm_classifier.fit(X_train, y_train)\n",
        "svm_predictions = svm_classifier.predict(X_test)\n",
        "svm_accuracy = accuracy_score(y_test, svm_predictions)\n",
        "svm_precision = precision_score(y_test, svm_predictions, average='weighted')\n",
        "svm_recall = recall_score(y_test, svm_predictions, average='weighted')\n",
        "svm_f1 = f1_score(y_test, svm_predictions, average='weighted')\n",
        "print(\"Support Vector Machine:\")\n",
        "print(\"Accuracy:\", svm_accuracy)\n",
        "print(\"Precision:\", svm_precision)\n",
        "print(\"Recall:\", svm_recall)\n",
        "print(\"F1-score:\", svm_f1)"
      ]
    },
    {
      "cell_type": "code",
      "execution_count": null,
      "metadata": {
        "colab": {
          "base_uri": "https://localhost:8080/"
        },
        "id": "9tSXcQFeQhhv",
        "outputId": "4b21abdd-1820-49d6-d750-413062bc1b7b"
      },
      "outputs": [
        {
          "name": "stdout",
          "output_type": "stream",
          "text": [
            "Multi Layer Perceptron:\n",
            "Accuracy: 0.7741530740276035\n",
            "Precision: 0.8304851254976725\n",
            "Recall: 0.7741530740276035\n",
            "F1-score: 0.7853761673206954\n"
          ]
        }
      ],
      "source": [
        "# Multi Layer Perceptron\n",
        "mlp_classifier = MLPClassifier()\n",
        "mlp_classifier.fit(X_train, y_train)\n",
        "mlp_predictions = mlp_classifier.predict(X_test)\n",
        "mlp_accuracy = accuracy_score(y_test, mlp_predictions)\n",
        "mlp_precision = precision_score(y_test, mlp_predictions, average='weighted')\n",
        "mlp_recall = recall_score(y_test, mlp_predictions, average='weighted')\n",
        "mlp_f1 = f1_score(y_test, mlp_predictions, average='weighted')\n",
        "print(\"Multi Layer Perceptron:\")\n",
        "print(\"Accuracy:\", mlp_accuracy)\n",
        "print(\"Precision:\", mlp_precision)\n",
        "print(\"Recall:\", mlp_recall)\n",
        "print(\"F1-score:\", mlp_f1)"
      ]
    },
    {
      "cell_type": "code",
      "execution_count": null,
      "metadata": {
        "colab": {
          "base_uri": "https://localhost:8080/"
        },
        "id": "rI_HWHclQheO",
        "outputId": "2f7a5868-b8a8-4b06-a3c5-fbacdb80c373"
      },
      "outputs": [
        {
          "name": "stdout",
          "output_type": "stream",
          "text": [
            "Epoch 1/10\n",
            "100/100 [==============================] - 7s 4ms/step - loss: 0.3962 - accuracy: 0.7051\n",
            "Epoch 2/10\n",
            "100/100 [==============================] - 0s 4ms/step - loss: 0.2746 - accuracy: 0.7223\n",
            "Epoch 3/10\n",
            "100/100 [==============================] - 0s 4ms/step - loss: 0.2494 - accuracy: 0.7223\n",
            "Epoch 4/10\n",
            "100/100 [==============================] - 0s 4ms/step - loss: 0.2254 - accuracy: 0.7223\n",
            "Epoch 5/10\n",
            "100/100 [==============================] - 0s 4ms/step - loss: 0.2026 - accuracy: 0.7223\n",
            "Epoch 6/10\n",
            "100/100 [==============================] - 0s 4ms/step - loss: 0.1889 - accuracy: 0.7223\n",
            "Epoch 7/10\n",
            "100/100 [==============================] - 0s 4ms/step - loss: 0.1816 - accuracy: 0.7223\n",
            "Epoch 8/10\n",
            "100/100 [==============================] - 0s 4ms/step - loss: 0.1705 - accuracy: 0.7223\n",
            "Epoch 9/10\n",
            "100/100 [==============================] - 0s 4ms/step - loss: 0.1580 - accuracy: 0.7223\n",
            "Epoch 10/10\n",
            "100/100 [==============================] - 0s 4ms/step - loss: 0.1576 - accuracy: 0.7223\n"
          ]
        },
        {
          "data": {
            "text/plain": [
              "<keras.callbacks.History at 0x79a4ac2a91e0>"
            ]
          },
          "execution_count": 36,
          "metadata": {},
          "output_type": "execute_result"
        }
      ],
      "source": [
        "# Convert DataFrame to numpy array\n",
        "X_train = X_train.values\n",
        "X_test = X_test.values\n",
        "\n",
        "# Reshape X_train and X_test\n",
        "X_train = np.reshape(X_train, (X_train.shape[0], 1, X_train.shape[1]))\n",
        "X_test = np.reshape(X_test, (X_test.shape[0], 1, X_test.shape[1]))\n",
        "\n",
        "# Define and compile the LSTM model\n",
        "lstm_model = Sequential()\n",
        "lstm_model.add(LSTM(units=64, input_shape=(1, X_train.shape[2])))\n",
        "lstm_model.add(Dense(units=1, activation='sigmoid'))\n",
        "lstm_model.compile(optimizer=Adam(), loss='binary_crossentropy', metrics=['accuracy'])\n",
        "\n",
        "# Train the LSTM model\n",
        "lstm_model.fit(X_train, y_train, epochs=10, batch_size=32)\n"
      ]
    },
    {
      "cell_type": "code",
      "execution_count": null,
      "metadata": {
        "colab": {
          "base_uri": "https://localhost:8080/"
        },
        "id": "8F3Z2MTPQhbC",
        "outputId": "ba0f4efb-3389-4f4e-e289-a8b5a374f64b"
      },
      "outputs": [
        {
          "name": "stdout",
          "output_type": "stream",
          "text": [
            "25/25 [==============================] - 0s 2ms/step\n",
            "LSTM:\n",
            "Accuracy: 0.7277289836888331\n",
            "Precision: 0.5295894737007819\n",
            "Recall: 0.7277289836888331\n",
            "F1-score: 0.6130469288881963\n"
          ]
        }
      ],
      "source": [
        "# Obtain predictions\n",
        "lstm_predictions = lstm_model.predict(X_test)\n",
        "lstm_predictions = (lstm_predictions > 0.5).astype(int)\n",
        "# Calculate accuracy and precision\n",
        "lstm_accuracy = accuracy_score(y_test, lstm_predictions)\n",
        "lstm_precision = precision_score(y_test, lstm_predictions, average='weighted')\n",
        "lstm_accuracy = accuracy_score(y_test, lstm_predictions)\n",
        "lstm_precision = precision_score(y_test, lstm_predictions, average='weighted')\n",
        "lstm_recall = recall_score(y_test, lstm_predictions, average='weighted')\n",
        "lstm_f1 = f1_score(y_test, lstm_predictions, average='weighted')\n",
        "print(\"LSTM:\")\n",
        "print(\"Accuracy:\", lstm_accuracy)\n",
        "print(\"Precision:\", lstm_precision)\n",
        "print(\"Recall:\", lstm_recall)\n",
        "print(\"F1-score:\", lstm_f1)\n"
      ]
    },
    {
      "cell_type": "code",
      "execution_count": null,
      "metadata": {
        "colab": {
          "base_uri": "https://localhost:8080/"
        },
        "id": "CELv3-aBQhXw",
        "outputId": "d762fbec-1476-4410-fdb9-2c7ff2ed2a67"
      },
      "outputs": [
        {
          "name": "stdout",
          "output_type": "stream",
          "text": [
            "                    Model  Accuracy\n",
            "0           Random Forest  0.983689\n",
            "1           Decision Tree  0.997491\n",
            "2  Support Vector Machine  0.943538\n",
            "3                Adaboost  0.943538\n",
            "4                     MLP  0.774153\n",
            "5                    LSTM  0.727729\n"
          ]
        }
      ],
      "source": [
        "# Create an empty DataFrame\n",
        "accuracy_df = pd.DataFrame(columns=['Model', 'Accuracy'])\n",
        "\n",
        "# Append accuracy values to the DataFrame\n",
        "accuracy_df = accuracy_df.append({'Model': 'Random Forest', 'Accuracy': rf_accuracy}, ignore_index=True)\n",
        "accuracy_df = accuracy_df.append({'Model': 'Decision Tree', 'Accuracy': dt_accuracy}, ignore_index=True)\n",
        "accuracy_df = accuracy_df.append({'Model': 'Support Vector Machine', 'Accuracy': adaboost_accuracy}, ignore_index=True)\n",
        "accuracy_df = accuracy_df.append({'Model': 'Adaboost', 'Accuracy': adaboost_accuracy}, ignore_index=True)\n",
        "accuracy_df = accuracy_df.append({'Model': 'MLP', 'Accuracy': mlp_accuracy}, ignore_index=True)\n",
        "accuracy_df = accuracy_df.append({'Model': 'LSTM', 'Accuracy': lstm_accuracy}, ignore_index=True)\n",
        "\n",
        "# Print the DataFrame\n",
        "print(accuracy_df)"
      ]
    },
    {
      "cell_type": "markdown",
      "source": [
        "Text Classificaton using BERT"
      ],
      "metadata": {
        "id": "PW65nGd7-WWw"
      }
    },
    {
      "cell_type": "code",
      "source": [
        "data = pd.read_csv('/content/drive/MyDrive/rukmininfo/jeffin/flipkart-customer-review-and-rating.zip')\n"
      ],
      "metadata": {
        "id": "RFZDKsLWo_ue"
      },
      "execution_count": null,
      "outputs": []
    },
    {
      "cell_type": "code",
      "source": [
        "%cd '/content/drive/MyDrive/rukmininfo'"
      ],
      "metadata": {
        "colab": {
          "base_uri": "https://localhost:8080/"
        },
        "id": "jZm8j5dprn8D",
        "outputId": "92f7fc1a-6f40-41c4-f7f1-658d4ccd0cef"
      },
      "execution_count": null,
      "outputs": [
        {
          "output_type": "stream",
          "name": "stdout",
          "text": [
            "/content/drive/MyDrive/rukmininfo\n"
          ]
        }
      ]
    },
    {
      "cell_type": "code",
      "source": [
        "df1 = pd.read_csv('2022-12-09-enriched.csv')\n",
        "df2 = pd.read_csv('2022-07-04-enriched.csv')\n",
        "df3 = pd.read_csv('2022-06-27-enriched.csv')\n",
        "df4 = pd.read_csv('2022-06-09-enriched.csv')\n",
        "df5 = pd.read_csv('2022-06-08-enriched.csv')\n",
        "data = pd.concat([df5,df4,df3,df2,df1], axis=0, ignore_index=True)"
      ],
      "metadata": {
        "id": "Yyl4G_VPrbsQ"
      },
      "execution_count": null,
      "outputs": []
    },
    {
      "cell_type": "code",
      "source": [
        "data[:5]"
      ],
      "metadata": {
        "id": "seVKgcq0o_rC",
        "colab": {
          "base_uri": "https://localhost:8080/",
          "height": 423
        },
        "outputId": "86104f8f-1fbc-4263-a798-8805404722a8"
      },
      "execution_count": null,
      "outputs": [
        {
          "output_type": "execute_result",
          "data": {
            "text/plain": [
              "           cve_id vendor_project             product  \\\n",
              "0  CVE-2021-27104      accellion                 FTA   \n",
              "1  CVE-2021-27102      accellion                 FTA   \n",
              "2  CVE-2021-27101      accellion                 FTA   \n",
              "3  CVE-2021-27103      accellion                 FTA   \n",
              "4  CVE-2021-21017          adobe  Acrobat and Reader   \n",
              "\n",
              "                                  vulnerability_name  date_added  \\\n",
              "0   Accellion FTA OS Command Injection Vulnerability  2021-11-03   \n",
              "1   Accellion FTA OS Command Injection Vulnerability  2021-11-03   \n",
              "2          Accellion FTA SQL Injection Vulnerability  2021-11-03   \n",
              "3                   Accellion FTA SSRF Vulnerability  2021-11-03   \n",
              "4  Adobe Acrobat and Reader Heap-based Buffer Ove...  2021-11-03   \n",
              "\n",
              "                                   short_description  \\\n",
              "0  Accellion FTA 9_12_370 and earlier is affected...   \n",
              "1  Accellion FTA 9_12_411 and earlier is affected...   \n",
              "2  Accellion FTA 9_12_370 and earlier is affected...   \n",
              "3  Accellion FTA 9_12_411 and earlier is affected...   \n",
              "4  Acrobat Reader DC versions versions 2020.013.2...   \n",
              "\n",
              "                          required_action    due_date notes  grp    pub_date  \\\n",
              "0  Apply updates per vendor instructions.  2021-11-17   NaN    1  2021-02-16   \n",
              "1  Apply updates per vendor instructions.  2021-11-17   NaN    1  2021-02-16   \n",
              "2  Apply updates per vendor instructions.  2021-11-17   NaN    1  2021-02-16   \n",
              "3  Apply updates per vendor instructions.  2021-11-17   NaN    1  2021-02-16   \n",
              "4  Apply updates per vendor instructions.  2021-11-17   NaN    1  2021-02-11   \n",
              "\n",
              "   cvss      cwe   vector complexity  severity  \n",
              "0   9.8   CWE-78  NETWORK        LOW  CRITICAL  \n",
              "1   7.8   CWE-78    LOCAL        LOW      HIGH  \n",
              "2   9.8   CWE-89  NETWORK        LOW  CRITICAL  \n",
              "3   9.8  CWE-918  NETWORK        LOW  CRITICAL  \n",
              "4   8.8  CWE-787  NETWORK        LOW      HIGH  "
            ],
            "text/html": [
              "\n",
              "\n",
              "  <div id=\"df-282f017d-86bc-4c10-93d9-0a6d264fbc4b\">\n",
              "    <div class=\"colab-df-container\">\n",
              "      <div>\n",
              "<style scoped>\n",
              "    .dataframe tbody tr th:only-of-type {\n",
              "        vertical-align: middle;\n",
              "    }\n",
              "\n",
              "    .dataframe tbody tr th {\n",
              "        vertical-align: top;\n",
              "    }\n",
              "\n",
              "    .dataframe thead th {\n",
              "        text-align: right;\n",
              "    }\n",
              "</style>\n",
              "<table border=\"1\" class=\"dataframe\">\n",
              "  <thead>\n",
              "    <tr style=\"text-align: right;\">\n",
              "      <th></th>\n",
              "      <th>cve_id</th>\n",
              "      <th>vendor_project</th>\n",
              "      <th>product</th>\n",
              "      <th>vulnerability_name</th>\n",
              "      <th>date_added</th>\n",
              "      <th>short_description</th>\n",
              "      <th>required_action</th>\n",
              "      <th>due_date</th>\n",
              "      <th>notes</th>\n",
              "      <th>grp</th>\n",
              "      <th>pub_date</th>\n",
              "      <th>cvss</th>\n",
              "      <th>cwe</th>\n",
              "      <th>vector</th>\n",
              "      <th>complexity</th>\n",
              "      <th>severity</th>\n",
              "    </tr>\n",
              "  </thead>\n",
              "  <tbody>\n",
              "    <tr>\n",
              "      <th>0</th>\n",
              "      <td>CVE-2021-27104</td>\n",
              "      <td>accellion</td>\n",
              "      <td>FTA</td>\n",
              "      <td>Accellion FTA OS Command Injection Vulnerability</td>\n",
              "      <td>2021-11-03</td>\n",
              "      <td>Accellion FTA 9_12_370 and earlier is affected...</td>\n",
              "      <td>Apply updates per vendor instructions.</td>\n",
              "      <td>2021-11-17</td>\n",
              "      <td>NaN</td>\n",
              "      <td>1</td>\n",
              "      <td>2021-02-16</td>\n",
              "      <td>9.8</td>\n",
              "      <td>CWE-78</td>\n",
              "      <td>NETWORK</td>\n",
              "      <td>LOW</td>\n",
              "      <td>CRITICAL</td>\n",
              "    </tr>\n",
              "    <tr>\n",
              "      <th>1</th>\n",
              "      <td>CVE-2021-27102</td>\n",
              "      <td>accellion</td>\n",
              "      <td>FTA</td>\n",
              "      <td>Accellion FTA OS Command Injection Vulnerability</td>\n",
              "      <td>2021-11-03</td>\n",
              "      <td>Accellion FTA 9_12_411 and earlier is affected...</td>\n",
              "      <td>Apply updates per vendor instructions.</td>\n",
              "      <td>2021-11-17</td>\n",
              "      <td>NaN</td>\n",
              "      <td>1</td>\n",
              "      <td>2021-02-16</td>\n",
              "      <td>7.8</td>\n",
              "      <td>CWE-78</td>\n",
              "      <td>LOCAL</td>\n",
              "      <td>LOW</td>\n",
              "      <td>HIGH</td>\n",
              "    </tr>\n",
              "    <tr>\n",
              "      <th>2</th>\n",
              "      <td>CVE-2021-27101</td>\n",
              "      <td>accellion</td>\n",
              "      <td>FTA</td>\n",
              "      <td>Accellion FTA SQL Injection Vulnerability</td>\n",
              "      <td>2021-11-03</td>\n",
              "      <td>Accellion FTA 9_12_370 and earlier is affected...</td>\n",
              "      <td>Apply updates per vendor instructions.</td>\n",
              "      <td>2021-11-17</td>\n",
              "      <td>NaN</td>\n",
              "      <td>1</td>\n",
              "      <td>2021-02-16</td>\n",
              "      <td>9.8</td>\n",
              "      <td>CWE-89</td>\n",
              "      <td>NETWORK</td>\n",
              "      <td>LOW</td>\n",
              "      <td>CRITICAL</td>\n",
              "    </tr>\n",
              "    <tr>\n",
              "      <th>3</th>\n",
              "      <td>CVE-2021-27103</td>\n",
              "      <td>accellion</td>\n",
              "      <td>FTA</td>\n",
              "      <td>Accellion FTA SSRF Vulnerability</td>\n",
              "      <td>2021-11-03</td>\n",
              "      <td>Accellion FTA 9_12_411 and earlier is affected...</td>\n",
              "      <td>Apply updates per vendor instructions.</td>\n",
              "      <td>2021-11-17</td>\n",
              "      <td>NaN</td>\n",
              "      <td>1</td>\n",
              "      <td>2021-02-16</td>\n",
              "      <td>9.8</td>\n",
              "      <td>CWE-918</td>\n",
              "      <td>NETWORK</td>\n",
              "      <td>LOW</td>\n",
              "      <td>CRITICAL</td>\n",
              "    </tr>\n",
              "    <tr>\n",
              "      <th>4</th>\n",
              "      <td>CVE-2021-21017</td>\n",
              "      <td>adobe</td>\n",
              "      <td>Acrobat and Reader</td>\n",
              "      <td>Adobe Acrobat and Reader Heap-based Buffer Ove...</td>\n",
              "      <td>2021-11-03</td>\n",
              "      <td>Acrobat Reader DC versions versions 2020.013.2...</td>\n",
              "      <td>Apply updates per vendor instructions.</td>\n",
              "      <td>2021-11-17</td>\n",
              "      <td>NaN</td>\n",
              "      <td>1</td>\n",
              "      <td>2021-02-11</td>\n",
              "      <td>8.8</td>\n",
              "      <td>CWE-787</td>\n",
              "      <td>NETWORK</td>\n",
              "      <td>LOW</td>\n",
              "      <td>HIGH</td>\n",
              "    </tr>\n",
              "  </tbody>\n",
              "</table>\n",
              "</div>\n",
              "      <button class=\"colab-df-convert\" onclick=\"convertToInteractive('df-282f017d-86bc-4c10-93d9-0a6d264fbc4b')\"\n",
              "              title=\"Convert this dataframe to an interactive table.\"\n",
              "              style=\"display:none;\">\n",
              "\n",
              "  <svg xmlns=\"http://www.w3.org/2000/svg\" height=\"24px\"viewBox=\"0 0 24 24\"\n",
              "       width=\"24px\">\n",
              "    <path d=\"M0 0h24v24H0V0z\" fill=\"none\"/>\n",
              "    <path d=\"M18.56 5.44l.94 2.06.94-2.06 2.06-.94-2.06-.94-.94-2.06-.94 2.06-2.06.94zm-11 1L8.5 8.5l.94-2.06 2.06-.94-2.06-.94L8.5 2.5l-.94 2.06-2.06.94zm10 10l.94 2.06.94-2.06 2.06-.94-2.06-.94-.94-2.06-.94 2.06-2.06.94z\"/><path d=\"M17.41 7.96l-1.37-1.37c-.4-.4-.92-.59-1.43-.59-.52 0-1.04.2-1.43.59L10.3 9.45l-7.72 7.72c-.78.78-.78 2.05 0 2.83L4 21.41c.39.39.9.59 1.41.59.51 0 1.02-.2 1.41-.59l7.78-7.78 2.81-2.81c.8-.78.8-2.07 0-2.86zM5.41 20L4 18.59l7.72-7.72 1.47 1.35L5.41 20z\"/>\n",
              "  </svg>\n",
              "      </button>\n",
              "\n",
              "\n",
              "\n",
              "    <div id=\"df-c1f3c77b-b446-40c7-b992-812a851c907b\">\n",
              "      <button class=\"colab-df-quickchart\" onclick=\"quickchart('df-c1f3c77b-b446-40c7-b992-812a851c907b')\"\n",
              "              title=\"Suggest charts.\"\n",
              "              style=\"display:none;\">\n",
              "\n",
              "<svg xmlns=\"http://www.w3.org/2000/svg\" height=\"24px\"viewBox=\"0 0 24 24\"\n",
              "     width=\"24px\">\n",
              "    <g>\n",
              "        <path d=\"M19 3H5c-1.1 0-2 .9-2 2v14c0 1.1.9 2 2 2h14c1.1 0 2-.9 2-2V5c0-1.1-.9-2-2-2zM9 17H7v-7h2v7zm4 0h-2V7h2v10zm4 0h-2v-4h2v4z\"/>\n",
              "    </g>\n",
              "</svg>\n",
              "      </button>\n",
              "    </div>\n",
              "\n",
              "<style>\n",
              "  .colab-df-quickchart {\n",
              "    background-color: #E8F0FE;\n",
              "    border: none;\n",
              "    border-radius: 50%;\n",
              "    cursor: pointer;\n",
              "    display: none;\n",
              "    fill: #1967D2;\n",
              "    height: 32px;\n",
              "    padding: 0 0 0 0;\n",
              "    width: 32px;\n",
              "  }\n",
              "\n",
              "  .colab-df-quickchart:hover {\n",
              "    background-color: #E2EBFA;\n",
              "    box-shadow: 0px 1px 2px rgba(60, 64, 67, 0.3), 0px 1px 3px 1px rgba(60, 64, 67, 0.15);\n",
              "    fill: #174EA6;\n",
              "  }\n",
              "\n",
              "  [theme=dark] .colab-df-quickchart {\n",
              "    background-color: #3B4455;\n",
              "    fill: #D2E3FC;\n",
              "  }\n",
              "\n",
              "  [theme=dark] .colab-df-quickchart:hover {\n",
              "    background-color: #434B5C;\n",
              "    box-shadow: 0px 1px 3px 1px rgba(0, 0, 0, 0.15);\n",
              "    filter: drop-shadow(0px 1px 2px rgba(0, 0, 0, 0.3));\n",
              "    fill: #FFFFFF;\n",
              "  }\n",
              "</style>\n",
              "\n",
              "    <script>\n",
              "      async function quickchart(key) {\n",
              "        const containerElement = document.querySelector('#' + key);\n",
              "        const charts = await google.colab.kernel.invokeFunction(\n",
              "            'suggestCharts', [key], {});\n",
              "      }\n",
              "    </script>\n",
              "\n",
              "      <script>\n",
              "\n",
              "function displayQuickchartButton(domScope) {\n",
              "  let quickchartButtonEl =\n",
              "    domScope.querySelector('#df-c1f3c77b-b446-40c7-b992-812a851c907b button.colab-df-quickchart');\n",
              "  quickchartButtonEl.style.display =\n",
              "    google.colab.kernel.accessAllowed ? 'block' : 'none';\n",
              "}\n",
              "\n",
              "        displayQuickchartButton(document);\n",
              "      </script>\n",
              "      <style>\n",
              "    .colab-df-container {\n",
              "      display:flex;\n",
              "      flex-wrap:wrap;\n",
              "      gap: 12px;\n",
              "    }\n",
              "\n",
              "    .colab-df-convert {\n",
              "      background-color: #E8F0FE;\n",
              "      border: none;\n",
              "      border-radius: 50%;\n",
              "      cursor: pointer;\n",
              "      display: none;\n",
              "      fill: #1967D2;\n",
              "      height: 32px;\n",
              "      padding: 0 0 0 0;\n",
              "      width: 32px;\n",
              "    }\n",
              "\n",
              "    .colab-df-convert:hover {\n",
              "      background-color: #E2EBFA;\n",
              "      box-shadow: 0px 1px 2px rgba(60, 64, 67, 0.3), 0px 1px 3px 1px rgba(60, 64, 67, 0.15);\n",
              "      fill: #174EA6;\n",
              "    }\n",
              "\n",
              "    [theme=dark] .colab-df-convert {\n",
              "      background-color: #3B4455;\n",
              "      fill: #D2E3FC;\n",
              "    }\n",
              "\n",
              "    [theme=dark] .colab-df-convert:hover {\n",
              "      background-color: #434B5C;\n",
              "      box-shadow: 0px 1px 3px 1px rgba(0, 0, 0, 0.15);\n",
              "      filter: drop-shadow(0px 1px 2px rgba(0, 0, 0, 0.3));\n",
              "      fill: #FFFFFF;\n",
              "    }\n",
              "  </style>\n",
              "\n",
              "      <script>\n",
              "        const buttonEl =\n",
              "          document.querySelector('#df-282f017d-86bc-4c10-93d9-0a6d264fbc4b button.colab-df-convert');\n",
              "        buttonEl.style.display =\n",
              "          google.colab.kernel.accessAllowed ? 'block' : 'none';\n",
              "\n",
              "        async function convertToInteractive(key) {\n",
              "          const element = document.querySelector('#df-282f017d-86bc-4c10-93d9-0a6d264fbc4b');\n",
              "          const dataTable =\n",
              "            await google.colab.kernel.invokeFunction('convertToInteractive',\n",
              "                                                     [key], {});\n",
              "          if (!dataTable) return;\n",
              "\n",
              "          const docLinkHtml = 'Like what you see? Visit the ' +\n",
              "            '<a target=\"_blank\" href=https://colab.research.google.com/notebooks/data_table.ipynb>data table notebook</a>'\n",
              "            + ' to learn more about interactive tables.';\n",
              "          element.innerHTML = '';\n",
              "          dataTable['output_type'] = 'display_data';\n",
              "          await google.colab.output.renderOutput(dataTable, element);\n",
              "          const docLink = document.createElement('div');\n",
              "          docLink.innerHTML = docLinkHtml;\n",
              "          element.appendChild(docLink);\n",
              "        }\n",
              "      </script>\n",
              "    </div>\n",
              "  </div>\n"
            ]
          },
          "metadata": {},
          "execution_count": 64
        }
      ]
    },
    {
      "cell_type": "code",
      "source": [
        "data.shape"
      ],
      "metadata": {
        "id": "3aCbDpxAM_87",
        "colab": {
          "base_uri": "https://localhost:8080/"
        },
        "outputId": "a2b919b9-0127-4e2f-ff95-4d5e438625fd"
      },
      "execution_count": null,
      "outputs": [
        {
          "output_type": "execute_result",
          "data": {
            "text/plain": [
              "(9976, 2)"
            ]
          },
          "metadata": {},
          "execution_count": 6
        }
      ]
    },
    {
      "cell_type": "code",
      "source": [
        "data.isnull().sum()"
      ],
      "metadata": {
        "id": "FpL8VHwzHiKt",
        "colab": {
          "base_uri": "https://localhost:8080/"
        },
        "outputId": "550dc6f8-0547-46d5-d847-0ef9ce1c3807"
      },
      "execution_count": null,
      "outputs": [
        {
          "output_type": "execute_result",
          "data": {
            "text/plain": [
              "cve_id                   0\n",
              "vendor_project           0\n",
              "product                  5\n",
              "vulnerability_name       0\n",
              "date_added               0\n",
              "short_description       30\n",
              "required_action          0\n",
              "due_date                 0\n",
              "notes                 3907\n",
              "grp                      0\n",
              "pub_date               878\n",
              "cvss                  1500\n",
              "cwe                    894\n",
              "vector                1500\n",
              "complexity            1500\n",
              "severity              1500\n",
              "dtype: int64"
            ]
          },
          "metadata": {},
          "execution_count": 65
        }
      ]
    },
    {
      "cell_type": "code",
      "source": [
        "data_new = data[:700]\n",
        "data_new.shape"
      ],
      "metadata": {
        "id": "6PaAUWdZM_5e",
        "colab": {
          "base_uri": "https://localhost:8080/"
        },
        "outputId": "6dffaf82-2633-420d-96a9-38c35e338869"
      },
      "execution_count": null,
      "outputs": [
        {
          "output_type": "execute_result",
          "data": {
            "text/plain": [
              "(700, 16)"
            ]
          },
          "metadata": {},
          "execution_count": 80
        }
      ]
    },
    {
      "cell_type": "code",
      "source": [
        "import nltk\n",
        "import re\n",
        "nltk.download('punkt')\n",
        "from nltk.corpus import stopwords\n",
        "from nltk.tokenize import word_tokenize\n"
      ],
      "metadata": {
        "id": "R-y8BQlhRBdl",
        "colab": {
          "base_uri": "https://localhost:8080/"
        },
        "outputId": "c6d1cab6-36c8-4199-eaeb-4af2c2fad935"
      },
      "execution_count": null,
      "outputs": [
        {
          "output_type": "stream",
          "name": "stderr",
          "text": [
            "[nltk_data] Downloading package punkt to /root/nltk_data...\n",
            "[nltk_data]   Package punkt is already up-to-date!\n"
          ]
        }
      ]
    },
    {
      "cell_type": "code",
      "source": [
        "!pip install -q transformers"
      ],
      "metadata": {
        "colab": {
          "base_uri": "https://localhost:8080/"
        },
        "id": "_32_08uet6DW",
        "outputId": "effccb36-9027-474e-eaec-60e49c5e2a24"
      },
      "execution_count": null,
      "outputs": [
        {
          "output_type": "stream",
          "name": "stdout",
          "text": [
            "\u001b[2K     \u001b[90m━━━━━━━━━━━━━━━━━━━━━━━━━━━━━━━━━━━━━━━━\u001b[0m \u001b[32m7.4/7.4 MB\u001b[0m \u001b[31m52.9 MB/s\u001b[0m eta \u001b[36m0:00:00\u001b[0m\n",
            "\u001b[2K     \u001b[90m━━━━━━━━━━━━━━━━━━━━━━━━━━━━━━━━━━━━━━\u001b[0m \u001b[32m268.8/268.8 kB\u001b[0m \u001b[31m31.7 MB/s\u001b[0m eta \u001b[36m0:00:00\u001b[0m\n",
            "\u001b[2K     \u001b[90m━━━━━━━━━━━━━━━━━━━━━━━━━━━━━━━━━━━━━━━━\u001b[0m \u001b[32m7.8/7.8 MB\u001b[0m \u001b[31m95.0 MB/s\u001b[0m eta \u001b[36m0:00:00\u001b[0m\n",
            "\u001b[2K     \u001b[90m━━━━━━━━━━━━━━━━━━━━━━━━━━━━━━━━━━━━━━━━\u001b[0m \u001b[32m1.3/1.3 MB\u001b[0m \u001b[31m75.2 MB/s\u001b[0m eta \u001b[36m0:00:00\u001b[0m\n",
            "\u001b[?25h"
          ]
        }
      ]
    },
    {
      "cell_type": "code",
      "source": [
        "data_new.columns"
      ],
      "metadata": {
        "colab": {
          "base_uri": "https://localhost:8080/"
        },
        "id": "Rduti0r-aLRs",
        "outputId": "c6baf88a-7067-4293-b67a-75b66a8617cc"
      },
      "execution_count": null,
      "outputs": [
        {
          "output_type": "execute_result",
          "data": {
            "text/plain": [
              "Index(['cve_id', 'vendor_project', 'product', 'vulnerability_name',\n",
              "       'date_added', 'short_description', 'required_action', 'due_date',\n",
              "       'notes', 'grp', 'pub_date', 'cvss', 'cwe', 'vector', 'complexity',\n",
              "       'severity'],\n",
              "      dtype='object')"
            ]
          },
          "metadata": {},
          "execution_count": 68
        }
      ]
    },
    {
      "cell_type": "code",
      "source": [
        "# Have taken the columns \"Required_action and severity\"\n",
        "\n",
        "df_brt = data_new[['required_action','severity']]"
      ],
      "metadata": {
        "id": "V9hu43t0Z098"
      },
      "execution_count": null,
      "outputs": []
    },
    {
      "cell_type": "code",
      "source": [
        "##CUSTOM DEFINED FUNCTIONS TO CLEAN THE TWEETS\n",
        "\n",
        "#Clean emojis from text\n",
        "\n",
        "#Remove punctuations, links, mentions and \\r\\n new line characters\n",
        "def strip_all_entities(text):\n",
        "    text = text.replace('\\r', '').replace('\\n', ' ').replace('\\n', ' ').lower() #remove \\n and \\r and lowercase\n",
        "    text = re.sub(r\"(?:\\@|https?\\://)\\S+\", \"\", text) #remove links and mentions\n",
        "    text = re.sub(r'[^\\x00-\\x7f]',r'', text) #remove non utf8/ascii characters such as '\\x9a\\x91\\x97\\x9a\\x97'\n",
        "    banned_list= string.punctuation + 'Ã'+'±'+'ã'+'¼'+'â'+'»'+'§'\n",
        "    table = str.maketrans('', '', banned_list)\n",
        "    text = text.translate(table)\n",
        "    return text\n",
        "\n",
        "#clean hashtags at the end of the sentence, and keep those in the middle of the sentence by removing just the # symbol\n",
        "def clean_hashtags(tweet):\n",
        "    new_tweet = \" \".join(word.strip() for word in re.split('#(?!(?:hashtag)\\b)[\\w-]+(?=(?:\\s+#[\\w-]+)*\\s*$)', tweet)) #remove last hashtags\n",
        "    new_tweet2 = \" \".join(word.strip() for word in re.split('#|_', new_tweet)) #remove hashtags symbol from words in the middle of the sentence\n",
        "    return new_tweet2\n",
        "\n",
        "#Filter special characters such as & and $ present in some words\n",
        "def filter_chars(a):\n",
        "    sent = []\n",
        "    for word in a.split(' '):\n",
        "        if ('$' in word) | ('&' in word):\n",
        "            sent.append('')\n",
        "        else:\n",
        "            sent.append(word)\n",
        "    return ' '.join(sent)\n",
        "\n",
        "def remove_mult_spaces(text): # remove multiple spaces\n",
        "    return re.sub(\"\\s\\s+\" , \" \", text)"
      ],
      "metadata": {
        "id": "aobg2-MKZ03k"
      },
      "execution_count": null,
      "outputs": []
    },
    {
      "cell_type": "code",
      "source": [
        "texts_new = []\n",
        "for t in df_brt.required_action:\n",
        "    texts_new.append(remove_mult_spaces(filter_chars(clean_hashtags(strip_all_entities(t)))))\n"
      ],
      "metadata": {
        "id": "tOJsMLuKZ00O"
      },
      "execution_count": null,
      "outputs": []
    },
    {
      "cell_type": "code",
      "source": [
        "df_brt['text_clean'] = texts_new"
      ],
      "metadata": {
        "id": "dTIHVPZOZ0w-",
        "colab": {
          "base_uri": "https://localhost:8080/"
        },
        "outputId": "a0e87743-4b60-47ad-a971-ba7c413c4ff8"
      },
      "execution_count": null,
      "outputs": [
        {
          "output_type": "stream",
          "name": "stderr",
          "text": [
            "<ipython-input-85-88d4da653f1d>:1: SettingWithCopyWarning: \n",
            "A value is trying to be set on a copy of a slice from a DataFrame.\n",
            "Try using .loc[row_indexer,col_indexer] = value instead\n",
            "\n",
            "See the caveats in the documentation: https://pandas.pydata.org/pandas-docs/stable/user_guide/indexing.html#returning-a-view-versus-a-copy\n",
            "  df_brt['text_clean'] = texts_new\n"
          ]
        }
      ]
    },
    {
      "cell_type": "code",
      "source": [
        "df_brt"
      ],
      "metadata": {
        "id": "eoAXCPalZ0tl",
        "colab": {
          "base_uri": "https://localhost:8080/",
          "height": 423
        },
        "outputId": "3a184644-5d48-46c7-ecfc-8deca43ef8f8"
      },
      "execution_count": null,
      "outputs": [
        {
          "output_type": "execute_result",
          "data": {
            "text/plain": [
              "                            required_action  severity  \\\n",
              "0    Apply updates per vendor instructions.  CRITICAL   \n",
              "1    Apply updates per vendor instructions.      HIGH   \n",
              "2    Apply updates per vendor instructions.  CRITICAL   \n",
              "3    Apply updates per vendor instructions.  CRITICAL   \n",
              "4    Apply updates per vendor instructions.      HIGH   \n",
              "..                                      ...       ...   \n",
              "695  Apply updates per vendor instructions.    MEDIUM   \n",
              "696  Apply updates per vendor instructions.       LOW   \n",
              "697  Apply updates per vendor instructions.    MEDIUM   \n",
              "698  Apply updates per vendor instructions.      HIGH   \n",
              "699  Apply updates per vendor instructions.      HIGH   \n",
              "\n",
              "                                text_clean  \n",
              "0    apply updates per vendor instructions  \n",
              "1    apply updates per vendor instructions  \n",
              "2    apply updates per vendor instructions  \n",
              "3    apply updates per vendor instructions  \n",
              "4    apply updates per vendor instructions  \n",
              "..                                     ...  \n",
              "695  apply updates per vendor instructions  \n",
              "696  apply updates per vendor instructions  \n",
              "697  apply updates per vendor instructions  \n",
              "698  apply updates per vendor instructions  \n",
              "699  apply updates per vendor instructions  \n",
              "\n",
              "[700 rows x 3 columns]"
            ],
            "text/html": [
              "\n",
              "\n",
              "  <div id=\"df-3adaba0f-d2f8-47d6-8607-08fac9c37425\">\n",
              "    <div class=\"colab-df-container\">\n",
              "      <div>\n",
              "<style scoped>\n",
              "    .dataframe tbody tr th:only-of-type {\n",
              "        vertical-align: middle;\n",
              "    }\n",
              "\n",
              "    .dataframe tbody tr th {\n",
              "        vertical-align: top;\n",
              "    }\n",
              "\n",
              "    .dataframe thead th {\n",
              "        text-align: right;\n",
              "    }\n",
              "</style>\n",
              "<table border=\"1\" class=\"dataframe\">\n",
              "  <thead>\n",
              "    <tr style=\"text-align: right;\">\n",
              "      <th></th>\n",
              "      <th>required_action</th>\n",
              "      <th>severity</th>\n",
              "      <th>text_clean</th>\n",
              "    </tr>\n",
              "  </thead>\n",
              "  <tbody>\n",
              "    <tr>\n",
              "      <th>0</th>\n",
              "      <td>Apply updates per vendor instructions.</td>\n",
              "      <td>CRITICAL</td>\n",
              "      <td>apply updates per vendor instructions</td>\n",
              "    </tr>\n",
              "    <tr>\n",
              "      <th>1</th>\n",
              "      <td>Apply updates per vendor instructions.</td>\n",
              "      <td>HIGH</td>\n",
              "      <td>apply updates per vendor instructions</td>\n",
              "    </tr>\n",
              "    <tr>\n",
              "      <th>2</th>\n",
              "      <td>Apply updates per vendor instructions.</td>\n",
              "      <td>CRITICAL</td>\n",
              "      <td>apply updates per vendor instructions</td>\n",
              "    </tr>\n",
              "    <tr>\n",
              "      <th>3</th>\n",
              "      <td>Apply updates per vendor instructions.</td>\n",
              "      <td>CRITICAL</td>\n",
              "      <td>apply updates per vendor instructions</td>\n",
              "    </tr>\n",
              "    <tr>\n",
              "      <th>4</th>\n",
              "      <td>Apply updates per vendor instructions.</td>\n",
              "      <td>HIGH</td>\n",
              "      <td>apply updates per vendor instructions</td>\n",
              "    </tr>\n",
              "    <tr>\n",
              "      <th>...</th>\n",
              "      <td>...</td>\n",
              "      <td>...</td>\n",
              "      <td>...</td>\n",
              "    </tr>\n",
              "    <tr>\n",
              "      <th>695</th>\n",
              "      <td>Apply updates per vendor instructions.</td>\n",
              "      <td>MEDIUM</td>\n",
              "      <td>apply updates per vendor instructions</td>\n",
              "    </tr>\n",
              "    <tr>\n",
              "      <th>696</th>\n",
              "      <td>Apply updates per vendor instructions.</td>\n",
              "      <td>LOW</td>\n",
              "      <td>apply updates per vendor instructions</td>\n",
              "    </tr>\n",
              "    <tr>\n",
              "      <th>697</th>\n",
              "      <td>Apply updates per vendor instructions.</td>\n",
              "      <td>MEDIUM</td>\n",
              "      <td>apply updates per vendor instructions</td>\n",
              "    </tr>\n",
              "    <tr>\n",
              "      <th>698</th>\n",
              "      <td>Apply updates per vendor instructions.</td>\n",
              "      <td>HIGH</td>\n",
              "      <td>apply updates per vendor instructions</td>\n",
              "    </tr>\n",
              "    <tr>\n",
              "      <th>699</th>\n",
              "      <td>Apply updates per vendor instructions.</td>\n",
              "      <td>HIGH</td>\n",
              "      <td>apply updates per vendor instructions</td>\n",
              "    </tr>\n",
              "  </tbody>\n",
              "</table>\n",
              "<p>700 rows × 3 columns</p>\n",
              "</div>\n",
              "      <button class=\"colab-df-convert\" onclick=\"convertToInteractive('df-3adaba0f-d2f8-47d6-8607-08fac9c37425')\"\n",
              "              title=\"Convert this dataframe to an interactive table.\"\n",
              "              style=\"display:none;\">\n",
              "\n",
              "  <svg xmlns=\"http://www.w3.org/2000/svg\" height=\"24px\"viewBox=\"0 0 24 24\"\n",
              "       width=\"24px\">\n",
              "    <path d=\"M0 0h24v24H0V0z\" fill=\"none\"/>\n",
              "    <path d=\"M18.56 5.44l.94 2.06.94-2.06 2.06-.94-2.06-.94-.94-2.06-.94 2.06-2.06.94zm-11 1L8.5 8.5l.94-2.06 2.06-.94-2.06-.94L8.5 2.5l-.94 2.06-2.06.94zm10 10l.94 2.06.94-2.06 2.06-.94-2.06-.94-.94-2.06-.94 2.06-2.06.94z\"/><path d=\"M17.41 7.96l-1.37-1.37c-.4-.4-.92-.59-1.43-.59-.52 0-1.04.2-1.43.59L10.3 9.45l-7.72 7.72c-.78.78-.78 2.05 0 2.83L4 21.41c.39.39.9.59 1.41.59.51 0 1.02-.2 1.41-.59l7.78-7.78 2.81-2.81c.8-.78.8-2.07 0-2.86zM5.41 20L4 18.59l7.72-7.72 1.47 1.35L5.41 20z\"/>\n",
              "  </svg>\n",
              "      </button>\n",
              "\n",
              "\n",
              "\n",
              "    <div id=\"df-5726310a-3b5b-45aa-b1c0-83bc38d2b150\">\n",
              "      <button class=\"colab-df-quickchart\" onclick=\"quickchart('df-5726310a-3b5b-45aa-b1c0-83bc38d2b150')\"\n",
              "              title=\"Suggest charts.\"\n",
              "              style=\"display:none;\">\n",
              "\n",
              "<svg xmlns=\"http://www.w3.org/2000/svg\" height=\"24px\"viewBox=\"0 0 24 24\"\n",
              "     width=\"24px\">\n",
              "    <g>\n",
              "        <path d=\"M19 3H5c-1.1 0-2 .9-2 2v14c0 1.1.9 2 2 2h14c1.1 0 2-.9 2-2V5c0-1.1-.9-2-2-2zM9 17H7v-7h2v7zm4 0h-2V7h2v10zm4 0h-2v-4h2v4z\"/>\n",
              "    </g>\n",
              "</svg>\n",
              "      </button>\n",
              "    </div>\n",
              "\n",
              "<style>\n",
              "  .colab-df-quickchart {\n",
              "    background-color: #E8F0FE;\n",
              "    border: none;\n",
              "    border-radius: 50%;\n",
              "    cursor: pointer;\n",
              "    display: none;\n",
              "    fill: #1967D2;\n",
              "    height: 32px;\n",
              "    padding: 0 0 0 0;\n",
              "    width: 32px;\n",
              "  }\n",
              "\n",
              "  .colab-df-quickchart:hover {\n",
              "    background-color: #E2EBFA;\n",
              "    box-shadow: 0px 1px 2px rgba(60, 64, 67, 0.3), 0px 1px 3px 1px rgba(60, 64, 67, 0.15);\n",
              "    fill: #174EA6;\n",
              "  }\n",
              "\n",
              "  [theme=dark] .colab-df-quickchart {\n",
              "    background-color: #3B4455;\n",
              "    fill: #D2E3FC;\n",
              "  }\n",
              "\n",
              "  [theme=dark] .colab-df-quickchart:hover {\n",
              "    background-color: #434B5C;\n",
              "    box-shadow: 0px 1px 3px 1px rgba(0, 0, 0, 0.15);\n",
              "    filter: drop-shadow(0px 1px 2px rgba(0, 0, 0, 0.3));\n",
              "    fill: #FFFFFF;\n",
              "  }\n",
              "</style>\n",
              "\n",
              "    <script>\n",
              "      async function quickchart(key) {\n",
              "        const containerElement = document.querySelector('#' + key);\n",
              "        const charts = await google.colab.kernel.invokeFunction(\n",
              "            'suggestCharts', [key], {});\n",
              "      }\n",
              "    </script>\n",
              "\n",
              "      <script>\n",
              "\n",
              "function displayQuickchartButton(domScope) {\n",
              "  let quickchartButtonEl =\n",
              "    domScope.querySelector('#df-5726310a-3b5b-45aa-b1c0-83bc38d2b150 button.colab-df-quickchart');\n",
              "  quickchartButtonEl.style.display =\n",
              "    google.colab.kernel.accessAllowed ? 'block' : 'none';\n",
              "}\n",
              "\n",
              "        displayQuickchartButton(document);\n",
              "      </script>\n",
              "      <style>\n",
              "    .colab-df-container {\n",
              "      display:flex;\n",
              "      flex-wrap:wrap;\n",
              "      gap: 12px;\n",
              "    }\n",
              "\n",
              "    .colab-df-convert {\n",
              "      background-color: #E8F0FE;\n",
              "      border: none;\n",
              "      border-radius: 50%;\n",
              "      cursor: pointer;\n",
              "      display: none;\n",
              "      fill: #1967D2;\n",
              "      height: 32px;\n",
              "      padding: 0 0 0 0;\n",
              "      width: 32px;\n",
              "    }\n",
              "\n",
              "    .colab-df-convert:hover {\n",
              "      background-color: #E2EBFA;\n",
              "      box-shadow: 0px 1px 2px rgba(60, 64, 67, 0.3), 0px 1px 3px 1px rgba(60, 64, 67, 0.15);\n",
              "      fill: #174EA6;\n",
              "    }\n",
              "\n",
              "    [theme=dark] .colab-df-convert {\n",
              "      background-color: #3B4455;\n",
              "      fill: #D2E3FC;\n",
              "    }\n",
              "\n",
              "    [theme=dark] .colab-df-convert:hover {\n",
              "      background-color: #434B5C;\n",
              "      box-shadow: 0px 1px 3px 1px rgba(0, 0, 0, 0.15);\n",
              "      filter: drop-shadow(0px 1px 2px rgba(0, 0, 0, 0.3));\n",
              "      fill: #FFFFFF;\n",
              "    }\n",
              "  </style>\n",
              "\n",
              "      <script>\n",
              "        const buttonEl =\n",
              "          document.querySelector('#df-3adaba0f-d2f8-47d6-8607-08fac9c37425 button.colab-df-convert');\n",
              "        buttonEl.style.display =\n",
              "          google.colab.kernel.accessAllowed ? 'block' : 'none';\n",
              "\n",
              "        async function convertToInteractive(key) {\n",
              "          const element = document.querySelector('#df-3adaba0f-d2f8-47d6-8607-08fac9c37425');\n",
              "          const dataTable =\n",
              "            await google.colab.kernel.invokeFunction('convertToInteractive',\n",
              "                                                     [key], {});\n",
              "          if (!dataTable) return;\n",
              "\n",
              "          const docLinkHtml = 'Like what you see? Visit the ' +\n",
              "            '<a target=\"_blank\" href=https://colab.research.google.com/notebooks/data_table.ipynb>data table notebook</a>'\n",
              "            + ' to learn more about interactive tables.';\n",
              "          element.innerHTML = '';\n",
              "          dataTable['output_type'] = 'display_data';\n",
              "          await google.colab.output.renderOutput(dataTable, element);\n",
              "          const docLink = document.createElement('div');\n",
              "          docLink.innerHTML = docLinkHtml;\n",
              "          element.appendChild(docLink);\n",
              "        }\n",
              "      </script>\n",
              "    </div>\n",
              "  </div>\n"
            ]
          },
          "metadata": {},
          "execution_count": 86
        }
      ]
    },
    {
      "cell_type": "code",
      "source": [
        "df_brt['text_clean'][1:8].values"
      ],
      "metadata": {
        "colab": {
          "base_uri": "https://localhost:8080/"
        },
        "id": "8TYiOrbMeaSP",
        "outputId": "5ec6b007-a2d8-49d2-bcd9-8b4634c0bd1f"
      },
      "execution_count": null,
      "outputs": [
        {
          "output_type": "execute_result",
          "data": {
            "text/plain": [
              "array(['apply updates per vendor instructions',\n",
              "       'apply updates per vendor instructions',\n",
              "       'apply updates per vendor instructions',\n",
              "       'apply updates per vendor instructions',\n",
              "       'apply updates per vendor instructions',\n",
              "       'apply updates per vendor instructions',\n",
              "       'apply updates per vendor instructions'], dtype=object)"
            ]
          },
          "metadata": {},
          "execution_count": 75
        }
      ]
    },
    {
      "cell_type": "code",
      "source": [
        "data['severity'][:700].value_counts() # have taken only 700 records a mini dataframe. Please run with the whole dataset"
      ],
      "metadata": {
        "colab": {
          "base_uri": "https://localhost:8080/"
        },
        "id": "gMToSxaEs7Yl",
        "outputId": "e8e63e59-dabf-4d1f-9833-e07786090784"
      },
      "execution_count": null,
      "outputs": [
        {
          "output_type": "execute_result",
          "data": {
            "text/plain": [
              "HIGH        322\n",
              "CRITICAL    204\n",
              "MEDIUM       57\n",
              "LOW           1\n",
              "Name: severity, dtype: int64"
            ]
          },
          "metadata": {},
          "execution_count": 79
        }
      ]
    },
    {
      "cell_type": "code",
      "source": [
        "df_brt['severity'] = df_brt['severity'].map({'LOW':0,'MEDIUM':1,'CRITICAL':2,'HIGH':3})"
      ],
      "metadata": {
        "id": "k8Lq8mBMsv1N"
      },
      "execution_count": null,
      "outputs": []
    },
    {
      "cell_type": "code",
      "source": [
        "text_len = []\n",
        "for text in df_brt.text_clean:\n",
        "    tweet_len = len(text.split())\n",
        "    text_len.append(tweet_len)"
      ],
      "metadata": {
        "id": "v-99ea2veaPG"
      },
      "execution_count": null,
      "outputs": []
    },
    {
      "cell_type": "code",
      "source": [
        "df_brt['text_len'] = text_len"
      ],
      "metadata": {
        "id": "N-_jqk1VeaL5"
      },
      "execution_count": null,
      "outputs": []
    },
    {
      "cell_type": "code",
      "source": [
        "print(f\" DF SHAPE: {df_brt.shape}\")"
      ],
      "metadata": {
        "colab": {
          "base_uri": "https://localhost:8080/"
        },
        "id": "DOAnXoXgeaIk",
        "outputId": "9a7febd6-d3a7-4504-edb1-24ac1e8c5e4f"
      },
      "execution_count": null,
      "outputs": [
        {
          "output_type": "stream",
          "name": "stdout",
          "text": [
            " DF SHAPE: (700, 4)\n"
          ]
        }
      ]
    },
    {
      "cell_type": "code",
      "source": [
        "df_brt = df_brt[df_brt['text_len'] > 4]"
      ],
      "metadata": {
        "id": "Lf_dxGIzeo06"
      },
      "execution_count": null,
      "outputs": []
    },
    {
      "cell_type": "code",
      "source": [
        "print(f\" DF SHAPE: {df_brt.shape}\")"
      ],
      "metadata": {
        "colab": {
          "base_uri": "https://localhost:8080/"
        },
        "id": "_Vyu_j8ReoxH",
        "outputId": "e2e83e55-1d16-483e-e0ae-05b87162a750"
      },
      "execution_count": null,
      "outputs": [
        {
          "output_type": "stream",
          "name": "stdout",
          "text": [
            " DF SHAPE: (700, 4)\n"
          ]
        }
      ]
    },
    {
      "cell_type": "code",
      "source": [
        "tokenizer = BertTokenizerFast.from_pretrained('bert-base-uncased')"
      ],
      "metadata": {
        "colab": {
          "base_uri": "https://localhost:8080/",
          "height": 145,
          "referenced_widgets": [
            "fa8649fa57a0401dbaef07fe8dd64baf",
            "164f24b835ed4cabad66630a79e030db",
            "0bfa6573dda64af5b18bc07885c434e3",
            "7502f78411b04728aaa059e1becf867b",
            "250693b20037496ebc99a433e393a4fe",
            "3bf02a4754d84a218e035bbceb01c241",
            "01a0fce5dd6b46c4a6128c915aa4becd",
            "86efe8596e2844769ccf941c5131993f",
            "9ee44e9a02e344f7951782c420731a19",
            "ef393a6bea044f178ee607f2f9870b73",
            "8429aaa079ec43a3acdfae5970bc7c6a",
            "274ae6f5f8d54f0e932177b3a88c0b15",
            "31b63e1bbcc0418c91af61a91604a1a9",
            "25100ac68460477ab1b15f3669cba020",
            "89eb0be52b274138b6cd2d967273a7e3",
            "2098e95d9c0a43f989f4ff094727cb65",
            "5b24a2ce694447c7838231fbe63680ff",
            "75219387ab6e4d82aa6156bfae3afd1f",
            "686e2ab118cc482bbd1f7d39da5b9084",
            "627e2ecf7c384709aa83a5991f1b73de",
            "db40f753f072495ba0ea8711545d3eb1",
            "789a6e15f3384c03ad2aacf354660ddc",
            "9dabe71afdc747cebff2f003c2289a89",
            "36cae790d9174692b3a0d5247b219b8a",
            "9e49ac2b9d8943aa9a6cb65cecf23cdd",
            "374d0c0df0c640aeadf0bedbfaca2afc",
            "753d002509614a22ac8f9f53e125761b",
            "c3ab8ce7044d4670893b65a4f4280ad5",
            "81ce7b21fd6748b1ad83e8e02459370a",
            "4f2e51baa6474deaa5954fad3b3ce7be",
            "c27440a367764dd085c8933c56888284",
            "61539679de204e7ea4710124fb0931bc",
            "2c4cc50bc219491598b9ee9c611a1e4a",
            "b52680f5427e42d4a81b11d8beeb1923",
            "93f10d69a1a147c3a4773a05e033579b",
            "1634bd8033a945bebfc23df2cdd03d65",
            "dbb0ab678f1549f5bc4993c8cf6f3e09",
            "487702ec650743c1a6370403b38e6e5e",
            "231ba8f88042442587869f783b361bbd",
            "6b07b440cebb46b48d9f99942a135847",
            "a4a257ee706e440881f0327e77cb603c",
            "8c7bf2d5a23145398a67d08d971bde7a",
            "5e332a5014a24374b4d874f282694723",
            "a11dd31ac14e4137a72194167b30816c"
          ]
        },
        "id": "HNmoZseUvnaJ",
        "outputId": "2d56aa0e-c193-490e-c20a-d924300aeddc"
      },
      "execution_count": null,
      "outputs": [
        {
          "output_type": "display_data",
          "data": {
            "text/plain": [
              "Downloading (…)okenizer_config.json:   0%|          | 0.00/28.0 [00:00<?, ?B/s]"
            ],
            "application/vnd.jupyter.widget-view+json": {
              "version_major": 2,
              "version_minor": 0,
              "model_id": "fa8649fa57a0401dbaef07fe8dd64baf"
            }
          },
          "metadata": {}
        },
        {
          "output_type": "display_data",
          "data": {
            "text/plain": [
              "Downloading (…)solve/main/vocab.txt:   0%|          | 0.00/232k [00:00<?, ?B/s]"
            ],
            "application/vnd.jupyter.widget-view+json": {
              "version_major": 2,
              "version_minor": 0,
              "model_id": "274ae6f5f8d54f0e932177b3a88c0b15"
            }
          },
          "metadata": {}
        },
        {
          "output_type": "display_data",
          "data": {
            "text/plain": [
              "Downloading (…)/main/tokenizer.json:   0%|          | 0.00/466k [00:00<?, ?B/s]"
            ],
            "application/vnd.jupyter.widget-view+json": {
              "version_major": 2,
              "version_minor": 0,
              "model_id": "9dabe71afdc747cebff2f003c2289a89"
            }
          },
          "metadata": {}
        },
        {
          "output_type": "display_data",
          "data": {
            "text/plain": [
              "Downloading (…)lve/main/config.json:   0%|          | 0.00/570 [00:00<?, ?B/s]"
            ],
            "application/vnd.jupyter.widget-view+json": {
              "version_major": 2,
              "version_minor": 0,
              "model_id": "b52680f5427e42d4a81b11d8beeb1923"
            }
          },
          "metadata": {}
        }
      ]
    },
    {
      "cell_type": "code",
      "source": [
        "token_lens = []\n",
        "\n",
        "for txt in df_brt['text_clean'].values:\n",
        "    tokens = tokenizer.encode(txt, max_length=512, truncation=True)\n",
        "    token_lens.append(len(tokens))\n",
        "\n",
        "max_len=np.max(token_lens)"
      ],
      "metadata": {
        "id": "YvTviak-esk-"
      },
      "execution_count": null,
      "outputs": []
    },
    {
      "cell_type": "code",
      "source": [
        "print(f\"MAX TOKENIZED SENTENCE LENGTH: {max_len}\")"
      ],
      "metadata": {
        "colab": {
          "base_uri": "https://localhost:8080/"
        },
        "id": "fU_1qnBKeshY",
        "outputId": "9d5d2f04-9191-425e-b0f3-52021cf97278"
      },
      "execution_count": null,
      "outputs": [
        {
          "output_type": "stream",
          "name": "stdout",
          "text": [
            "MAX TOKENIZED SENTENCE LENGTH: 120\n"
          ]
        }
      ]
    },
    {
      "cell_type": "code",
      "source": [
        "# Let's check the long tokenized sentences (with more than 80 tokens ):\n",
        "\n",
        "token_lens = []\n",
        "\n",
        "for i,txt in enumerate(df_brt['text_clean'].values):\n",
        "    tokens = tokenizer.encode(txt, max_length=512, truncation=True)\n",
        "    token_lens.append(len(tokens))\n",
        "    if len(tokens)>80:\n",
        "        print(f\"INDEX: {i}, TEXT: {txt}\")\n"
      ],
      "metadata": {
        "id": "Y1sNXdkBfAd7"
      },
      "execution_count": null,
      "outputs": []
    },
    {
      "cell_type": "code",
      "source": [
        "df_brt['token_lens'] = token_lens"
      ],
      "metadata": {
        "id": "QJhb6D_1fAbA"
      },
      "execution_count": null,
      "outputs": []
    },
    {
      "cell_type": "code",
      "source": [
        "df_brt = df_brt.sort_values(by='token_lens', ascending=False)\n",
        "df_brt.head(20)"
      ],
      "metadata": {
        "colab": {
          "base_uri": "https://localhost:8080/",
          "height": 676
        },
        "id": "h-ljhq-6fAXq",
        "outputId": "012a7cad-9a77-4cd7-d4dc-64c3a91882d1"
      },
      "execution_count": null,
      "outputs": [
        {
          "output_type": "execute_result",
          "data": {
            "text/plain": [
              "                                       required_action  severity  \\\n",
              "308  For all affected software assets for which upd...       2.0   \n",
              "620  Versions 6 and earlier for this product are en...       2.0   \n",
              "608  The impacted product is end-of-life and should...       2.0   \n",
              "629  The impacted product is end-of-life and should...       NaN   \n",
              "545  The impacted product is end-of-life and should...       3.0   \n",
              "551  The impacted product is end-of-life and should...       2.0   \n",
              "598  The impacted product is end-of-life and should...       NaN   \n",
              "468  The impacted product is end-of-life and should...       NaN   \n",
              "639  The impacted product is end-of-life and should...       2.0   \n",
              "638  The impacted product is end-of-life and should...       2.0   \n",
              "464  The impacted product is end-of-life and should...       NaN   \n",
              "633  The impacted product is end-of-life and should...       NaN   \n",
              "632  The impacted product is end-of-life and should...       NaN   \n",
              "631  The impacted product is end-of-life and should...       NaN   \n",
              "628  The impacted product is end-of-life and should...       NaN   \n",
              "542  The impacted product is end-of-life and should...       2.0   \n",
              "627  The impacted product is end-of-life and should...       NaN   \n",
              "575  The impacted product is end-of-life and should...       2.0   \n",
              "612  The impacted product is end-of-life and should...       2.0   \n",
              "444  The impacted product is end-of-life and should...       NaN   \n",
              "\n",
              "                                            text_clean  text_len  token_lens  \n",
              "308  for all affected software assets for which upd...        42          48  \n",
              "620  versions 6 and earlier for this product are en...        24          28  \n",
              "608  the impacted product is endoflife and should b...        13          17  \n",
              "629  the impacted product is endoflife and should b...        13          17  \n",
              "545  the impacted product is endoflife and should b...        13          17  \n",
              "551  the impacted product is endoflife and should b...        13          17  \n",
              "598  the impacted product is endoflife and should b...        13          17  \n",
              "468  the impacted product is endoflife and should b...        13          17  \n",
              "639  the impacted product is endoflife and should b...        13          17  \n",
              "638  the impacted product is endoflife and should b...        13          17  \n",
              "464  the impacted product is endoflife and should b...        13          17  \n",
              "633  the impacted product is endoflife and should b...        13          17  \n",
              "632  the impacted product is endoflife and should b...        13          17  \n",
              "631  the impacted product is endoflife and should b...        13          17  \n",
              "628  the impacted product is endoflife and should b...        13          17  \n",
              "542  the impacted product is endoflife and should b...        13          17  \n",
              "627  the impacted product is endoflife and should b...        13          17  \n",
              "575  the impacted product is endoflife and should b...        13          17  \n",
              "612  the impacted product is endoflife and should b...        13          17  \n",
              "444  the impacted product is endoflife and should b...        13          17  "
            ],
            "text/html": [
              "\n",
              "\n",
              "  <div id=\"df-f630d4ac-01e7-4c56-b8cb-873c344aa5b8\">\n",
              "    <div class=\"colab-df-container\">\n",
              "      <div>\n",
              "<style scoped>\n",
              "    .dataframe tbody tr th:only-of-type {\n",
              "        vertical-align: middle;\n",
              "    }\n",
              "\n",
              "    .dataframe tbody tr th {\n",
              "        vertical-align: top;\n",
              "    }\n",
              "\n",
              "    .dataframe thead th {\n",
              "        text-align: right;\n",
              "    }\n",
              "</style>\n",
              "<table border=\"1\" class=\"dataframe\">\n",
              "  <thead>\n",
              "    <tr style=\"text-align: right;\">\n",
              "      <th></th>\n",
              "      <th>required_action</th>\n",
              "      <th>severity</th>\n",
              "      <th>text_clean</th>\n",
              "      <th>text_len</th>\n",
              "      <th>token_lens</th>\n",
              "    </tr>\n",
              "  </thead>\n",
              "  <tbody>\n",
              "    <tr>\n",
              "      <th>308</th>\n",
              "      <td>For all affected software assets for which upd...</td>\n",
              "      <td>2.0</td>\n",
              "      <td>for all affected software assets for which upd...</td>\n",
              "      <td>42</td>\n",
              "      <td>48</td>\n",
              "    </tr>\n",
              "    <tr>\n",
              "      <th>620</th>\n",
              "      <td>Versions 6 and earlier for this product are en...</td>\n",
              "      <td>2.0</td>\n",
              "      <td>versions 6 and earlier for this product are en...</td>\n",
              "      <td>24</td>\n",
              "      <td>28</td>\n",
              "    </tr>\n",
              "    <tr>\n",
              "      <th>608</th>\n",
              "      <td>The impacted product is end-of-life and should...</td>\n",
              "      <td>2.0</td>\n",
              "      <td>the impacted product is endoflife and should b...</td>\n",
              "      <td>13</td>\n",
              "      <td>17</td>\n",
              "    </tr>\n",
              "    <tr>\n",
              "      <th>629</th>\n",
              "      <td>The impacted product is end-of-life and should...</td>\n",
              "      <td>NaN</td>\n",
              "      <td>the impacted product is endoflife and should b...</td>\n",
              "      <td>13</td>\n",
              "      <td>17</td>\n",
              "    </tr>\n",
              "    <tr>\n",
              "      <th>545</th>\n",
              "      <td>The impacted product is end-of-life and should...</td>\n",
              "      <td>3.0</td>\n",
              "      <td>the impacted product is endoflife and should b...</td>\n",
              "      <td>13</td>\n",
              "      <td>17</td>\n",
              "    </tr>\n",
              "    <tr>\n",
              "      <th>551</th>\n",
              "      <td>The impacted product is end-of-life and should...</td>\n",
              "      <td>2.0</td>\n",
              "      <td>the impacted product is endoflife and should b...</td>\n",
              "      <td>13</td>\n",
              "      <td>17</td>\n",
              "    </tr>\n",
              "    <tr>\n",
              "      <th>598</th>\n",
              "      <td>The impacted product is end-of-life and should...</td>\n",
              "      <td>NaN</td>\n",
              "      <td>the impacted product is endoflife and should b...</td>\n",
              "      <td>13</td>\n",
              "      <td>17</td>\n",
              "    </tr>\n",
              "    <tr>\n",
              "      <th>468</th>\n",
              "      <td>The impacted product is end-of-life and should...</td>\n",
              "      <td>NaN</td>\n",
              "      <td>the impacted product is endoflife and should b...</td>\n",
              "      <td>13</td>\n",
              "      <td>17</td>\n",
              "    </tr>\n",
              "    <tr>\n",
              "      <th>639</th>\n",
              "      <td>The impacted product is end-of-life and should...</td>\n",
              "      <td>2.0</td>\n",
              "      <td>the impacted product is endoflife and should b...</td>\n",
              "      <td>13</td>\n",
              "      <td>17</td>\n",
              "    </tr>\n",
              "    <tr>\n",
              "      <th>638</th>\n",
              "      <td>The impacted product is end-of-life and should...</td>\n",
              "      <td>2.0</td>\n",
              "      <td>the impacted product is endoflife and should b...</td>\n",
              "      <td>13</td>\n",
              "      <td>17</td>\n",
              "    </tr>\n",
              "    <tr>\n",
              "      <th>464</th>\n",
              "      <td>The impacted product is end-of-life and should...</td>\n",
              "      <td>NaN</td>\n",
              "      <td>the impacted product is endoflife and should b...</td>\n",
              "      <td>13</td>\n",
              "      <td>17</td>\n",
              "    </tr>\n",
              "    <tr>\n",
              "      <th>633</th>\n",
              "      <td>The impacted product is end-of-life and should...</td>\n",
              "      <td>NaN</td>\n",
              "      <td>the impacted product is endoflife and should b...</td>\n",
              "      <td>13</td>\n",
              "      <td>17</td>\n",
              "    </tr>\n",
              "    <tr>\n",
              "      <th>632</th>\n",
              "      <td>The impacted product is end-of-life and should...</td>\n",
              "      <td>NaN</td>\n",
              "      <td>the impacted product is endoflife and should b...</td>\n",
              "      <td>13</td>\n",
              "      <td>17</td>\n",
              "    </tr>\n",
              "    <tr>\n",
              "      <th>631</th>\n",
              "      <td>The impacted product is end-of-life and should...</td>\n",
              "      <td>NaN</td>\n",
              "      <td>the impacted product is endoflife and should b...</td>\n",
              "      <td>13</td>\n",
              "      <td>17</td>\n",
              "    </tr>\n",
              "    <tr>\n",
              "      <th>628</th>\n",
              "      <td>The impacted product is end-of-life and should...</td>\n",
              "      <td>NaN</td>\n",
              "      <td>the impacted product is endoflife and should b...</td>\n",
              "      <td>13</td>\n",
              "      <td>17</td>\n",
              "    </tr>\n",
              "    <tr>\n",
              "      <th>542</th>\n",
              "      <td>The impacted product is end-of-life and should...</td>\n",
              "      <td>2.0</td>\n",
              "      <td>the impacted product is endoflife and should b...</td>\n",
              "      <td>13</td>\n",
              "      <td>17</td>\n",
              "    </tr>\n",
              "    <tr>\n",
              "      <th>627</th>\n",
              "      <td>The impacted product is end-of-life and should...</td>\n",
              "      <td>NaN</td>\n",
              "      <td>the impacted product is endoflife and should b...</td>\n",
              "      <td>13</td>\n",
              "      <td>17</td>\n",
              "    </tr>\n",
              "    <tr>\n",
              "      <th>575</th>\n",
              "      <td>The impacted product is end-of-life and should...</td>\n",
              "      <td>2.0</td>\n",
              "      <td>the impacted product is endoflife and should b...</td>\n",
              "      <td>13</td>\n",
              "      <td>17</td>\n",
              "    </tr>\n",
              "    <tr>\n",
              "      <th>612</th>\n",
              "      <td>The impacted product is end-of-life and should...</td>\n",
              "      <td>2.0</td>\n",
              "      <td>the impacted product is endoflife and should b...</td>\n",
              "      <td>13</td>\n",
              "      <td>17</td>\n",
              "    </tr>\n",
              "    <tr>\n",
              "      <th>444</th>\n",
              "      <td>The impacted product is end-of-life and should...</td>\n",
              "      <td>NaN</td>\n",
              "      <td>the impacted product is endoflife and should b...</td>\n",
              "      <td>13</td>\n",
              "      <td>17</td>\n",
              "    </tr>\n",
              "  </tbody>\n",
              "</table>\n",
              "</div>\n",
              "      <button class=\"colab-df-convert\" onclick=\"convertToInteractive('df-f630d4ac-01e7-4c56-b8cb-873c344aa5b8')\"\n",
              "              title=\"Convert this dataframe to an interactive table.\"\n",
              "              style=\"display:none;\">\n",
              "\n",
              "  <svg xmlns=\"http://www.w3.org/2000/svg\" height=\"24px\"viewBox=\"0 0 24 24\"\n",
              "       width=\"24px\">\n",
              "    <path d=\"M0 0h24v24H0V0z\" fill=\"none\"/>\n",
              "    <path d=\"M18.56 5.44l.94 2.06.94-2.06 2.06-.94-2.06-.94-.94-2.06-.94 2.06-2.06.94zm-11 1L8.5 8.5l.94-2.06 2.06-.94-2.06-.94L8.5 2.5l-.94 2.06-2.06.94zm10 10l.94 2.06.94-2.06 2.06-.94-2.06-.94-.94-2.06-.94 2.06-2.06.94z\"/><path d=\"M17.41 7.96l-1.37-1.37c-.4-.4-.92-.59-1.43-.59-.52 0-1.04.2-1.43.59L10.3 9.45l-7.72 7.72c-.78.78-.78 2.05 0 2.83L4 21.41c.39.39.9.59 1.41.59.51 0 1.02-.2 1.41-.59l7.78-7.78 2.81-2.81c.8-.78.8-2.07 0-2.86zM5.41 20L4 18.59l7.72-7.72 1.47 1.35L5.41 20z\"/>\n",
              "  </svg>\n",
              "      </button>\n",
              "\n",
              "\n",
              "\n",
              "    <div id=\"df-aa060521-49ca-499e-abf4-b93c3cd346f1\">\n",
              "      <button class=\"colab-df-quickchart\" onclick=\"quickchart('df-aa060521-49ca-499e-abf4-b93c3cd346f1')\"\n",
              "              title=\"Suggest charts.\"\n",
              "              style=\"display:none;\">\n",
              "\n",
              "<svg xmlns=\"http://www.w3.org/2000/svg\" height=\"24px\"viewBox=\"0 0 24 24\"\n",
              "     width=\"24px\">\n",
              "    <g>\n",
              "        <path d=\"M19 3H5c-1.1 0-2 .9-2 2v14c0 1.1.9 2 2 2h14c1.1 0 2-.9 2-2V5c0-1.1-.9-2-2-2zM9 17H7v-7h2v7zm4 0h-2V7h2v10zm4 0h-2v-4h2v4z\"/>\n",
              "    </g>\n",
              "</svg>\n",
              "      </button>\n",
              "    </div>\n",
              "\n",
              "<style>\n",
              "  .colab-df-quickchart {\n",
              "    background-color: #E8F0FE;\n",
              "    border: none;\n",
              "    border-radius: 50%;\n",
              "    cursor: pointer;\n",
              "    display: none;\n",
              "    fill: #1967D2;\n",
              "    height: 32px;\n",
              "    padding: 0 0 0 0;\n",
              "    width: 32px;\n",
              "  }\n",
              "\n",
              "  .colab-df-quickchart:hover {\n",
              "    background-color: #E2EBFA;\n",
              "    box-shadow: 0px 1px 2px rgba(60, 64, 67, 0.3), 0px 1px 3px 1px rgba(60, 64, 67, 0.15);\n",
              "    fill: #174EA6;\n",
              "  }\n",
              "\n",
              "  [theme=dark] .colab-df-quickchart {\n",
              "    background-color: #3B4455;\n",
              "    fill: #D2E3FC;\n",
              "  }\n",
              "\n",
              "  [theme=dark] .colab-df-quickchart:hover {\n",
              "    background-color: #434B5C;\n",
              "    box-shadow: 0px 1px 3px 1px rgba(0, 0, 0, 0.15);\n",
              "    filter: drop-shadow(0px 1px 2px rgba(0, 0, 0, 0.3));\n",
              "    fill: #FFFFFF;\n",
              "  }\n",
              "</style>\n",
              "\n",
              "    <script>\n",
              "      async function quickchart(key) {\n",
              "        const containerElement = document.querySelector('#' + key);\n",
              "        const charts = await google.colab.kernel.invokeFunction(\n",
              "            'suggestCharts', [key], {});\n",
              "      }\n",
              "    </script>\n",
              "\n",
              "      <script>\n",
              "\n",
              "function displayQuickchartButton(domScope) {\n",
              "  let quickchartButtonEl =\n",
              "    domScope.querySelector('#df-aa060521-49ca-499e-abf4-b93c3cd346f1 button.colab-df-quickchart');\n",
              "  quickchartButtonEl.style.display =\n",
              "    google.colab.kernel.accessAllowed ? 'block' : 'none';\n",
              "}\n",
              "\n",
              "        displayQuickchartButton(document);\n",
              "      </script>\n",
              "      <style>\n",
              "    .colab-df-container {\n",
              "      display:flex;\n",
              "      flex-wrap:wrap;\n",
              "      gap: 12px;\n",
              "    }\n",
              "\n",
              "    .colab-df-convert {\n",
              "      background-color: #E8F0FE;\n",
              "      border: none;\n",
              "      border-radius: 50%;\n",
              "      cursor: pointer;\n",
              "      display: none;\n",
              "      fill: #1967D2;\n",
              "      height: 32px;\n",
              "      padding: 0 0 0 0;\n",
              "      width: 32px;\n",
              "    }\n",
              "\n",
              "    .colab-df-convert:hover {\n",
              "      background-color: #E2EBFA;\n",
              "      box-shadow: 0px 1px 2px rgba(60, 64, 67, 0.3), 0px 1px 3px 1px rgba(60, 64, 67, 0.15);\n",
              "      fill: #174EA6;\n",
              "    }\n",
              "\n",
              "    [theme=dark] .colab-df-convert {\n",
              "      background-color: #3B4455;\n",
              "      fill: #D2E3FC;\n",
              "    }\n",
              "\n",
              "    [theme=dark] .colab-df-convert:hover {\n",
              "      background-color: #434B5C;\n",
              "      box-shadow: 0px 1px 3px 1px rgba(0, 0, 0, 0.15);\n",
              "      filter: drop-shadow(0px 1px 2px rgba(0, 0, 0, 0.3));\n",
              "      fill: #FFFFFF;\n",
              "    }\n",
              "  </style>\n",
              "\n",
              "      <script>\n",
              "        const buttonEl =\n",
              "          document.querySelector('#df-f630d4ac-01e7-4c56-b8cb-873c344aa5b8 button.colab-df-convert');\n",
              "        buttonEl.style.display =\n",
              "          google.colab.kernel.accessAllowed ? 'block' : 'none';\n",
              "\n",
              "        async function convertToInteractive(key) {\n",
              "          const element = document.querySelector('#df-f630d4ac-01e7-4c56-b8cb-873c344aa5b8');\n",
              "          const dataTable =\n",
              "            await google.colab.kernel.invokeFunction('convertToInteractive',\n",
              "                                                     [key], {});\n",
              "          if (!dataTable) return;\n",
              "\n",
              "          const docLinkHtml = 'Like what you see? Visit the ' +\n",
              "            '<a target=\"_blank\" href=https://colab.research.google.com/notebooks/data_table.ipynb>data table notebook</a>'\n",
              "            + ' to learn more about interactive tables.';\n",
              "          element.innerHTML = '';\n",
              "          dataTable['output_type'] = 'display_data';\n",
              "          await google.colab.output.renderOutput(dataTable, element);\n",
              "          const docLink = document.createElement('div');\n",
              "          docLink.innerHTML = docLinkHtml;\n",
              "          element.appendChild(docLink);\n",
              "        }\n",
              "      </script>\n",
              "    </div>\n",
              "  </div>\n"
            ]
          },
          "metadata": {},
          "execution_count": 96
        }
      ]
    },
    {
      "cell_type": "code",
      "source": [
        "df_brt['severity'] = df_brt['severity'].fillna(df_brt['severity'].mode()[0])\n"
      ],
      "metadata": {
        "id": "AZea5aQsuNqC"
      },
      "execution_count": null,
      "outputs": []
    },
    {
      "cell_type": "code",
      "source": [
        "df_brt['severity'].isna().sum()"
      ],
      "metadata": {
        "colab": {
          "base_uri": "https://localhost:8080/"
        },
        "id": "tALpdTeYuaGb",
        "outputId": "bf92dd31-8912-4052-8e7d-dba54d58e40b"
      },
      "execution_count": null,
      "outputs": [
        {
          "output_type": "execute_result",
          "data": {
            "text/plain": [
              "0"
            ]
          },
          "metadata": {},
          "execution_count": 98
        }
      ]
    },
    {
      "cell_type": "code",
      "source": [
        "# The dataset looks more clean now. We will shuffle it and reset the index.\n",
        "df_brt = df_brt.sample(frac=1).reset_index(drop=True)"
      ],
      "metadata": {
        "id": "66sCfJnDfAUk"
      },
      "execution_count": null,
      "outputs": []
    },
    {
      "cell_type": "markdown",
      "source": [
        "\n",
        "Sentiment column analysis\n"
      ],
      "metadata": {
        "id": "17gS6hfwfqLq"
      }
    },
    {
      "cell_type": "code",
      "source": [
        "df_brt['severity'].value_counts()"
      ],
      "metadata": {
        "colab": {
          "base_uri": "https://localhost:8080/"
        },
        "id": "BP3ElfeKfXIC",
        "outputId": "a503d09d-e95f-4354-bed5-f6c9556f396c"
      },
      "execution_count": null,
      "outputs": [
        {
          "output_type": "execute_result",
          "data": {
            "text/plain": [
              "3.0    438\n",
              "2.0    204\n",
              "1.0     57\n",
              "0.0      1\n",
              "Name: severity, dtype: int64"
            ]
          },
          "metadata": {},
          "execution_count": 101
        }
      ]
    },
    {
      "cell_type": "code",
      "source": [
        "# We note that the three classes are imbalanced. We will proceed with oversampling the train test, to remove bias towards the majority classes.\n",
        "\n",
        "ros = RandomOverSampler()\n",
        "train_x, train_y = ros.fit_resample(np.array(df_brt['text_clean']).reshape(-1, 1), np.array(df_brt['severity']).reshape(-1, 1));\n",
        "train_os = pd.DataFrame(list(zip([x[0] for x in train_x], train_y)), columns = ['text_clean', 'severity']);"
      ],
      "metadata": {
        "id": "JeTxMBN1fXEi"
      },
      "execution_count": null,
      "outputs": []
    },
    {
      "cell_type": "code",
      "source": [
        "train_os['severity'].value_counts()"
      ],
      "metadata": {
        "colab": {
          "base_uri": "https://localhost:8080/"
        },
        "id": "mmGgu2cUfXBc",
        "outputId": "d5947a6a-d49e-401d-a73b-51d66e20145e"
      },
      "execution_count": null,
      "outputs": [
        {
          "output_type": "execute_result",
          "data": {
            "text/plain": [
              "2.0    438\n",
              "3.0    438\n",
              "1.0    438\n",
              "0.0    438\n",
              "Name: severity, dtype: int64"
            ]
          },
          "metadata": {},
          "execution_count": 103
        }
      ]
    },
    {
      "cell_type": "code",
      "source": [
        "X = train_os['text_clean'].values\n",
        "y = train_os['severity'].values"
      ],
      "metadata": {
        "id": "5wdFzCFGfhrp"
      },
      "execution_count": null,
      "outputs": []
    },
    {
      "cell_type": "code",
      "source": [
        "X.shape"
      ],
      "metadata": {
        "colab": {
          "base_uri": "https://localhost:8080/"
        },
        "id": "JnBOb0XGokDF",
        "outputId": "708e1863-0d9e-48c7-dfea-a42c07893a8e"
      },
      "execution_count": null,
      "outputs": [
        {
          "output_type": "execute_result",
          "data": {
            "text/plain": [
              "(1752,)"
            ]
          },
          "metadata": {},
          "execution_count": 105
        }
      ]
    },
    {
      "cell_type": "code",
      "source": [
        "X_train, X_valid, y_train, y_valid = train_test_split(X, y, test_size=0.1, stratify=y, random_state=seed)"
      ],
      "metadata": {
        "id": "f79o4KLLfhoh"
      },
      "execution_count": null,
      "outputs": []
    },
    {
      "cell_type": "code",
      "source": [
        "y_train.shape, y_valid.shape,X_valid.shape,X_train.shape"
      ],
      "metadata": {
        "colab": {
          "base_uri": "https://localhost:8080/"
        },
        "id": "XaO9g6zlmwwF",
        "outputId": "febf925b-52f6-4c17-f933-7fdb0d087e67"
      },
      "execution_count": null,
      "outputs": [
        {
          "output_type": "execute_result",
          "data": {
            "text/plain": [
              "((1576,), (176,), (176,), (1576,))"
            ]
          },
          "metadata": {},
          "execution_count": 107
        }
      ]
    },
    {
      "cell_type": "code",
      "source": [
        "# One hot encoding. by using one hot encoding on the target variable we achieved higher accuracy.\n",
        "\n",
        "y_train_le = y_train.copy()\n",
        "y_valid_le = y_valid.copy()\n",
        "# y_test_le = y_test.copy()"
      ],
      "metadata": {
        "id": "N5mvRRbkgkmA"
      },
      "execution_count": null,
      "outputs": []
    },
    {
      "cell_type": "code",
      "source": [
        "ohe = preprocessing.OneHotEncoder()\n",
        "y_train = ohe.fit_transform(np.array(y_train).reshape(-1, 1)).toarray()\n",
        "y_valid = ohe.fit_transform(np.array(y_valid).reshape(-1, 1)).toarray()\n",
        "# y_test = ohe.fit_transform(np.array(y_test).reshape(-1, 1)).toarray()"
      ],
      "metadata": {
        "id": "kGb3Lpqigkiy"
      },
      "execution_count": null,
      "outputs": []
    },
    {
      "cell_type": "code",
      "source": [
        "print(f\"TRAINING DATA: {X_train.shape[0]}\\nVALIDATION DATA: {X_valid.shape[0]}\\n\" )"
      ],
      "metadata": {
        "colab": {
          "base_uri": "https://localhost:8080/"
        },
        "id": "L2peXAt2gkfb",
        "outputId": "ced122fe-dd5e-45e0-9d9f-0199b984886c"
      },
      "execution_count": null,
      "outputs": [
        {
          "output_type": "stream",
          "name": "stdout",
          "text": [
            "TRAINING DATA: 1576\n",
            "VALIDATION DATA: 176\n",
            "\n"
          ]
        }
      ]
    },
    {
      "cell_type": "code",
      "source": [
        "MAX_LEN=128\n",
        "\n",
        "def tokenize(data,max_len=MAX_LEN) :\n",
        "    input_ids = []\n",
        "    attention_masks = []\n",
        "    for i in range(len(data)):\n",
        "        encoded = tokenizer.encode_plus(\n",
        "            data[i],\n",
        "            add_special_tokens=True,\n",
        "            max_length=MAX_LEN,\n",
        "            padding='max_length',\n",
        "            return_attention_mask=True\n",
        "        )\n",
        "        input_ids.append(encoded['input_ids'])\n",
        "        attention_masks.append(encoded['attention_mask'])\n",
        "    return np.array(input_ids),np.array(attention_masks)"
      ],
      "metadata": {
        "id": "6BiRYcH7gkcP"
      },
      "execution_count": null,
      "outputs": []
    },
    {
      "cell_type": "code",
      "source": [
        "train_input_ids, train_attention_masks = tokenize(X_train, MAX_LEN)\n",
        "val_input_ids, val_attention_masks = tokenize(X_valid, MAX_LEN)\n",
        "# test_input_ids, test_attention_masks = tokenize(X_test, MAX_LEN)"
      ],
      "metadata": {
        "id": "YP5aT-ShhBPl"
      },
      "execution_count": null,
      "outputs": []
    },
    {
      "cell_type": "code",
      "source": [
        "val_input_ids.shape"
      ],
      "metadata": {
        "colab": {
          "base_uri": "https://localhost:8080/"
        },
        "id": "Xe3Sg-uypF5Q",
        "outputId": "57b11ec4-40e1-42df-aa70-2754c520c825"
      },
      "execution_count": null,
      "outputs": [
        {
          "output_type": "execute_result",
          "data": {
            "text/plain": [
              "(176, 128)"
            ]
          },
          "metadata": {},
          "execution_count": 113
        }
      ]
    },
    {
      "cell_type": "code",
      "source": [
        "bert_model = TFBertModel.from_pretrained('bert-base-uncased')"
      ],
      "metadata": {
        "colab": {
          "base_uri": "https://localhost:8080/",
          "height": 156,
          "referenced_widgets": [
            "2c7d92534905441e8f105b62792081fd",
            "ce3de3313c004d5eb77bcea2c5ef8ca7",
            "7eea548f883e4d21b4b53fd3e0a57b54",
            "a85d5503e2254f1e9600f2b31edac90a",
            "c28bcc8f7c17419eb367bd1138d4faff",
            "29071ef12ca948aa90d283c1881e0e59",
            "eee90178b88a4f27b560afb790b4eb42",
            "a22ed66e526948e59a955196bc5cdc4a",
            "231fa3bcdeb848aba680f38ff627c965",
            "34fdde724feb45128327ae69b34a3e54",
            "6fa83fec929342c58f720c271f6b26cd"
          ]
        },
        "id": "S4POU5TzhBMK",
        "outputId": "6b134d82-4fd9-401e-9a72-5b4356cb32d0"
      },
      "execution_count": null,
      "outputs": [
        {
          "output_type": "display_data",
          "data": {
            "text/plain": [
              "Downloading model.safetensors:   0%|          | 0.00/440M [00:00<?, ?B/s]"
            ],
            "application/vnd.jupyter.widget-view+json": {
              "version_major": 2,
              "version_minor": 0,
              "model_id": "2c7d92534905441e8f105b62792081fd"
            }
          },
          "metadata": {}
        },
        {
          "output_type": "stream",
          "name": "stderr",
          "text": [
            "Some weights of the PyTorch model were not used when initializing the TF 2.0 model TFBertModel: ['cls.predictions.bias', 'cls.predictions.transform.LayerNorm.bias', 'cls.predictions.transform.LayerNorm.weight', 'cls.seq_relationship.weight', 'cls.predictions.transform.dense.bias', 'cls.seq_relationship.bias', 'cls.predictions.transform.dense.weight']\n",
            "- This IS expected if you are initializing TFBertModel from a PyTorch model trained on another task or with another architecture (e.g. initializing a TFBertForSequenceClassification model from a BertForPreTraining model).\n",
            "- This IS NOT expected if you are initializing TFBertModel from a PyTorch model that you expect to be exactly identical (e.g. initializing a TFBertForSequenceClassification model from a BertForSequenceClassification model).\n",
            "All the weights of TFBertModel were initialized from the PyTorch model.\n",
            "If your task is similar to the task the model of the checkpoint was trained on, you can already use TFBertModel for predictions without further training.\n"
          ]
        }
      ]
    },
    {
      "cell_type": "code",
      "source": [
        "def create_model(bert_model, max_len=MAX_LEN):\n",
        "\n",
        "    ##params###\n",
        "    opt = tf.keras.optimizers.legacy.Adam(learning_rate=1e-5, decay=1e-7)\n",
        "    loss = tf.keras.losses.CategoricalCrossentropy()\n",
        "    accuracy = tf.keras.metrics.CategoricalAccuracy()\n",
        "\n",
        "\n",
        "    input_ids = tf.keras.Input(shape=(max_len,),dtype='int32')\n",
        "\n",
        "    attention_masks = tf.keras.Input(shape=(max_len,),dtype='int32')\n",
        "\n",
        "    embeddings = bert_model([input_ids,attention_masks])[1]\n",
        "\n",
        "    output = tf.keras.layers.Dense(4, activation=\"softmax\")(embeddings)\n",
        "\n",
        "    model = tf.keras.models.Model(inputs = [input_ids,attention_masks], outputs = output)\n",
        "\n",
        "    model.compile(opt, loss=loss, metrics=accuracy)\n",
        "\n",
        "    return model\n",
        "\n"
      ],
      "metadata": {
        "id": "eDLagQrXhBI4"
      },
      "execution_count": null,
      "outputs": []
    },
    {
      "cell_type": "code",
      "source": [
        "model1 = create_model(bert_model, MAX_LEN)\n",
        "model1.summary()"
      ],
      "metadata": {
        "colab": {
          "base_uri": "https://localhost:8080/"
        },
        "id": "B4LWMkBchoQR",
        "outputId": "27663cc3-fc5a-4660-a032-4c9b5f636927"
      },
      "execution_count": null,
      "outputs": [
        {
          "output_type": "stream",
          "name": "stdout",
          "text": [
            "Model: \"model_1\"\n",
            "__________________________________________________________________________________________________\n",
            " Layer (type)                   Output Shape         Param #     Connected to                     \n",
            "==================================================================================================\n",
            " input_3 (InputLayer)           [(None, 128)]        0           []                               \n",
            "                                                                                                  \n",
            " input_4 (InputLayer)           [(None, 128)]        0           []                               \n",
            "                                                                                                  \n",
            " tf_bert_model (TFBertModel)    TFBaseModelOutputWi  109482240   ['input_3[0][0]',                \n",
            "                                thPoolingAndCrossAt               'input_4[0][0]']                \n",
            "                                tentions(last_hidde                                               \n",
            "                                n_state=(None, 128,                                               \n",
            "                                 768),                                                            \n",
            "                                 pooler_output=(Non                                               \n",
            "                                e, 768),                                                          \n",
            "                                 past_key_values=No                                               \n",
            "                                ne, hidden_states=N                                               \n",
            "                                one, attentions=Non                                               \n",
            "                                e, cross_attentions                                               \n",
            "                                =None)                                                            \n",
            "                                                                                                  \n",
            " dense_1 (Dense)                (None, 4)            3076        ['tf_bert_model[1][1]']          \n",
            "                                                                                                  \n",
            "==================================================================================================\n",
            "Total params: 109,485,316\n",
            "Trainable params: 109,485,316\n",
            "Non-trainable params: 0\n",
            "__________________________________________________________________________________________________\n"
          ]
        }
      ]
    },
    {
      "cell_type": "code",
      "source": [
        "train_input_ids.shape"
      ],
      "metadata": {
        "id": "GRiLnsy1i2be",
        "colab": {
          "base_uri": "https://localhost:8080/"
        },
        "outputId": "d9f4a0fa-cf49-4872-8e61-f2d08c94e2ca"
      },
      "execution_count": null,
      "outputs": [
        {
          "output_type": "execute_result",
          "data": {
            "text/plain": [
              "(1576, 128)"
            ]
          },
          "metadata": {},
          "execution_count": 116
        }
      ]
    },
    {
      "cell_type": "code",
      "source": [
        "y_train.shape, y_valid.shape"
      ],
      "metadata": {
        "id": "C9O3dMHAl2eF",
        "colab": {
          "base_uri": "https://localhost:8080/"
        },
        "outputId": "71cf4c12-9060-4043-91ce-09764a75d312"
      },
      "execution_count": null,
      "outputs": [
        {
          "output_type": "execute_result",
          "data": {
            "text/plain": [
              "((1576, 4), (176, 4))"
            ]
          },
          "metadata": {},
          "execution_count": 117
        }
      ]
    },
    {
      "cell_type": "code",
      "source": [
        "history_bert = model1.fit([train_input_ids,train_attention_masks], y_train, validation_data=([val_input_ids, val_attention_masks],y_valid), epochs=2, batch_size=32)\n",
        "\n",
        "# history = model.fit(X_train, y_train, epochs=30,validation_data=(X_valid,y_valid),batch_size=100,verbose=1,shuffle=1)"
      ],
      "metadata": {
        "colab": {
          "base_uri": "https://localhost:8080/"
        },
        "id": "5XmdbHb2hoMz",
        "outputId": "9bbfdd32-cbd1-4015-93f7-a5066f4deb6e"
      },
      "execution_count": null,
      "outputs": [
        {
          "output_type": "stream",
          "name": "stdout",
          "text": [
            "Epoch 1/2\n",
            "50/50 [==============================] - 61s 843ms/step - loss: 1.4002 - categorical_accuracy: 0.2506 - val_loss: 1.3704 - val_categorical_accuracy: 0.2557\n",
            "Epoch 2/2\n",
            "50/50 [==============================] - 38s 767ms/step - loss: 1.3793 - categorical_accuracy: 0.2582 - val_loss: 1.3621 - val_categorical_accuracy: 0.2784\n"
          ]
        }
      ]
    },
    {
      "cell_type": "code",
      "source": [
        "# BERT results\n",
        "\n",
        "result_bert1 = model1.predict([val_input_ids, val_attention_masks])"
      ],
      "metadata": {
        "id": "WNdQ6zxKhoJh",
        "colab": {
          "base_uri": "https://localhost:8080/"
        },
        "outputId": "44c2bec3-6015-47fe-f6da-3df7f08fc325"
      },
      "execution_count": null,
      "outputs": [
        {
          "output_type": "stream",
          "name": "stdout",
          "text": [
            "6/6 [==============================] - 6s 248ms/step\n"
          ]
        }
      ]
    },
    {
      "cell_type": "code",
      "source": [
        "y_pred_bert1 =  np.zeros_like(result_bert1)\n",
        "y_pred_bert1[np.arange(len(y_pred_bert1)), result_bert1.argmax(1)] = 1"
      ],
      "metadata": {
        "id": "gMNsJe0fW_P4"
      },
      "execution_count": null,
      "outputs": []
    },
    {
      "cell_type": "code",
      "source": [
        "#metrics\n",
        "from sklearn.metrics import accuracy_score, f1_score\n",
        "from sklearn.metrics import classification_report, confusion_matrix"
      ],
      "metadata": {
        "id": "O9OEqxCRX8Zl"
      },
      "execution_count": null,
      "outputs": []
    },
    {
      "cell_type": "code",
      "source": [
        "def conf_matrix(y, y_pred, title):\n",
        "    fig, ax =plt.subplots(figsize=(4,4))\n",
        "    labels=[0,1,2,3]\n",
        "    ax=sns.heatmap(confusion_matrix(y, y_pred), annot=True, cmap=\"Blues\", fmt='g', cbar=False, annot_kws={\"size\":25})\n",
        "    plt.title(title, fontsize=20)\n",
        "    ax.xaxis.set_ticklabels(labels, fontsize=17)\n",
        "    ax.yaxis.set_ticklabels(labels, fontsize=17)\n",
        "    ax.set_ylabel('Test', fontsize=20)\n",
        "    ax.set_xlabel('Predicted', fontsize=20)\n",
        "    plt.show()"
      ],
      "metadata": {
        "id": "85c1XlkxYKxD"
      },
      "execution_count": null,
      "outputs": []
    },
    {
      "cell_type": "code",
      "source": [
        "conf_matrix(y_valid.argmax(1), y_pred_bert1.argmax(1),'BERT Sentiment Analysis\\nConfusion Matrix')"
      ],
      "metadata": {
        "id": "At0DVjxPXDT9",
        "colab": {
          "base_uri": "https://localhost:8080/",
          "height": 475
        },
        "outputId": "22cba82d-9c1e-4ac1-c399-5af6f5082b9b"
      },
      "execution_count": null,
      "outputs": [
        {
          "output_type": "display_data",
          "data": {
            "text/plain": [
              "<Figure size 400x400 with 1 Axes>"
            ],
            "image/png": "[encoded data removed]"
          },
          "metadata": {}
        }
      ]
    },
    {
      "cell_type": "code",
      "source": [
        "print('\\tClassification Report for BERT:\\n\\n',classification_report(y_valid,y_pred_bert1))"
      ],
      "metadata": {
        "id": "FsOv7cYsXen0",
        "colab": {
          "base_uri": "https://localhost:8080/"
        },
        "outputId": "7fd8d1e2-466e-4c6e-c49e-a52b4afcd8cf"
      },
      "execution_count": null,
      "outputs": [
        {
          "output_type": "stream",
          "name": "stdout",
          "text": [
            "\tClassification Report for BERT:\n",
            "\n",
            "               precision    recall  f1-score   support\n",
            "\n",
            "           0       0.26      1.00      0.41        44\n",
            "           1       0.00      0.00      0.00        44\n",
            "           2       0.83      0.11      0.20        44\n",
            "           3       0.00      0.00      0.00        44\n",
            "\n",
            "   micro avg       0.28      0.28      0.28       176\n",
            "   macro avg       0.27      0.28      0.15       176\n",
            "weighted avg       0.27      0.28      0.15       176\n",
            " samples avg       0.28      0.28      0.28       176\n",
            "\n"
          ]
        },
        {
          "output_type": "stream",
          "name": "stderr",
          "text": [
            "/usr/local/lib/python3.10/dist-packages/sklearn/metrics/_classification.py:1344: UndefinedMetricWarning: Precision and F-score are ill-defined and being set to 0.0 in labels with no predicted samples. Use `zero_division` parameter to control this behavior.\n",
            "  _warn_prf(average, modifier, msg_start, len(result))\n"
          ]
        }
      ]
    },
    {
      "cell_type": "code",
      "source": [
        "accuracy = accuracy_score(y_valid, y_pred_bert1)\n",
        "print('Accuracy: %.3f' % (accuracy * 100))"
      ],
      "metadata": {
        "id": "0_7xrjk9Ypk7",
        "colab": {
          "base_uri": "https://localhost:8080/"
        },
        "outputId": "430d82cb-15d6-4eee-b5b2-16e471d8b008"
      },
      "execution_count": null,
      "outputs": [
        {
          "output_type": "stream",
          "name": "stdout",
          "text": [
            "Accuracy: 27.841\n"
          ]
        }
      ]
    },
    {
      "cell_type": "markdown",
      "source": [
        "For the better result please run the whole dataset and epochs inbetween(50,100)."
      ],
      "metadata": {
        "id": "zYVmLvJwAPoy"
      }
    },
    {
      "cell_type": "code",
      "source": [
        "..............END......................."
      ],
      "metadata": {
        "id": "99TPhi7uYphF"
      },
      "execution_count": null,
      "outputs": []
    }
  ]
}